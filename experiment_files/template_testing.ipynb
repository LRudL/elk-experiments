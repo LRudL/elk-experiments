{
 "cells": [
  {
   "cell_type": "code",
   "execution_count": 5,
   "metadata": {},
   "outputs": [],
   "source": [
    "%load_ext autoreload\n",
    "%autoreload 2"
   ]
  },
  {
   "cell_type": "code",
   "execution_count": 14,
   "metadata": {},
   "outputs": [],
   "source": [
    "import os\n",
    "from elk.extraction.prompt_dataset import PromptDataset, PromptConfig\n",
    "from elk.promptsource.templates import DatasetTemplates"
   ]
  },
  {
   "cell_type": "code",
   "execution_count": 19,
   "metadata": {},
   "outputs": [],
   "source": [
    "prompt_cfg = PromptConfig(\"Anthropic/hh-rlhf harmless-base\", data_dir=\"harmless-base\")"
   ]
  },
  {
   "cell_type": "code",
   "execution_count": 20,
   "metadata": {},
   "outputs": [],
   "source": [
    "template = DatasetTemplates(\"Anthropic/hh-rlhf\", subset_name=\"harmless-base\")"
   ]
  },
  {
   "cell_type": "code",
   "execution_count": 21,
   "metadata": {},
   "outputs": [
    {
     "data": {
      "text/plain": [
       "'/fsx/home-rudolf/elk/elk-experiments/elk/promptsource/templates/Anthropic/hh-rlhf/harmless-base/templates.yaml'"
      ]
     },
     "execution_count": 21,
     "metadata": {},
     "output_type": "execute_result"
    }
   ],
   "source": [
    "template.yaml_path"
   ]
  },
  {
   "cell_type": "code",
   "execution_count": 22,
   "metadata": {},
   "outputs": [
    {
     "data": {
      "text/plain": [
       "True"
      ]
     },
     "execution_count": 22,
     "metadata": {},
     "output_type": "execute_result"
    }
   ],
   "source": [
    "os.path.exists(template.yaml_path)"
   ]
  },
  {
   "cell_type": "code",
   "execution_count": 23,
   "metadata": {},
   "outputs": [
    {
     "name": "stderr",
     "output_type": "stream",
     "text": [
      "WARNING:datasets.builder:Found cached dataset json (/fsx/home-rudolf/hf_data_cache/Anthropic___json/Anthropic--hh-rlhf-161bcf33652d7a11/0.0.0/0f7e3662623656454fcd2b650f34e886a7db4b9104504885bd462096cc7a9f51)\n",
      "100%|██████████| 2/2 [00:00<00:00, 714.78it/s]\n"
     ]
    },
    {
     "ename": "ValueError",
     "evalue": "Dataset has no label column",
     "output_type": "error",
     "traceback": [
      "\u001b[0;31m---------------------------------------------------------------------------\u001b[0m",
      "\u001b[0;31mValueError\u001b[0m                                Traceback (most recent call last)",
      "Cell \u001b[0;32mIn[23], line 1\u001b[0m\n\u001b[0;32m----> 1\u001b[0m pds \u001b[39m=\u001b[39m PromptDataset(prompt_cfg, split\u001b[39m=\u001b[39;49m\u001b[39m\"\u001b[39;49m\u001b[39mtrain\u001b[39;49m\u001b[39m\"\u001b[39;49m)\n",
      "File \u001b[0;32m/fsx/home-rudolf/elk/elk-experiments/elk/extraction/prompt_dataset.py:139\u001b[0m, in \u001b[0;36mPromptDataset.__init__\u001b[0;34m(self, cfg, rank, world_size, split)\u001b[0m\n\u001b[1;32m    137\u001b[0m \u001b[39m# The 'active' split is the one that gets queried by __getitem__\u001b[39;00m\n\u001b[1;32m    138\u001b[0m \u001b[39mself\u001b[39m\u001b[39m.\u001b[39mactive_split \u001b[39m=\u001b[39m ds_dict[split]\n\u001b[0;32m--> 139\u001b[0m label_col \u001b[39m=\u001b[39m cfg\u001b[39m.\u001b[39mlabel_column \u001b[39mor\u001b[39;00m infer_label_column(\u001b[39mself\u001b[39;49m\u001b[39m.\u001b[39;49mactive_split\u001b[39m.\u001b[39;49mfeatures)\n\u001b[1;32m    140\u001b[0m \u001b[39mself\u001b[39m\u001b[39m.\u001b[39mlabel_column \u001b[39m=\u001b[39m label_col\n\u001b[1;32m    141\u001b[0m \u001b[39mself\u001b[39m\u001b[39m.\u001b[39mnum_classes \u001b[39m=\u001b[39m cfg\u001b[39m.\u001b[39mnum_classes \u001b[39mor\u001b[39;00m infer_num_classes(\n\u001b[1;32m    142\u001b[0m     \u001b[39mself\u001b[39m\u001b[39m.\u001b[39mactive_split\u001b[39m.\u001b[39mfeatures[label_col]\n\u001b[1;32m    143\u001b[0m )\n",
      "File \u001b[0;32m/fsx/home-rudolf/elk/elk-experiments/elk/utils/data_utils.py:77\u001b[0m, in \u001b[0;36minfer_label_column\u001b[0;34m(features)\u001b[0m\n\u001b[1;32m     73\u001b[0m label_cols \u001b[39m=\u001b[39m [\n\u001b[1;32m     74\u001b[0m     col \u001b[39mfor\u001b[39;00m col, dtype \u001b[39min\u001b[39;00m features\u001b[39m.\u001b[39mitems() \u001b[39mif\u001b[39;00m \u001b[39misinstance\u001b[39m(dtype, ClassLabel)\n\u001b[1;32m     75\u001b[0m ]\n\u001b[1;32m     76\u001b[0m \u001b[39mif\u001b[39;00m \u001b[39mnot\u001b[39;00m label_cols:\n\u001b[0;32m---> 77\u001b[0m     \u001b[39mraise\u001b[39;00m \u001b[39mValueError\u001b[39;00m(\u001b[39m\"\u001b[39m\u001b[39mDataset has no label column\u001b[39m\u001b[39m\"\u001b[39m)\n\u001b[1;32m     78\u001b[0m \u001b[39melif\u001b[39;00m \u001b[39mlen\u001b[39m(label_cols) \u001b[39m>\u001b[39m \u001b[39m1\u001b[39m:\n\u001b[1;32m     79\u001b[0m     \u001b[39mraise\u001b[39;00m \u001b[39mValueError\u001b[39;00m(\n\u001b[1;32m     80\u001b[0m         \u001b[39mf\u001b[39m\u001b[39m\"\u001b[39m\u001b[39mDataset has multiple label columns \u001b[39m\u001b[39m{\u001b[39;00mlabel_cols\u001b[39m}\u001b[39;00m\u001b[39m; specify \u001b[39m\u001b[39m\"\u001b[39m\n\u001b[1;32m     81\u001b[0m         \u001b[39mf\u001b[39m\u001b[39m\"\u001b[39m\u001b[39mlabel_column to disambiguate\u001b[39m\u001b[39m\"\u001b[39m\n\u001b[1;32m     82\u001b[0m     )\n",
      "\u001b[0;31mValueError\u001b[0m: Dataset has no label column"
     ]
    }
   ],
   "source": [
    "pds = PromptDataset(prompt_cfg, split=\"train\")"
   ]
  },
  {
   "cell_type": "code",
   "execution_count": null,
   "metadata": {},
   "outputs": [],
   "source": []
  }
 ],
 "metadata": {
  "kernelspec": {
   "display_name": "elk2",
   "language": "python",
   "name": "python3"
  },
  "language_info": {
   "codemirror_mode": {
    "name": "ipython",
    "version": 3
   },
   "file_extension": ".py",
   "mimetype": "text/x-python",
   "name": "python",
   "nbconvert_exporter": "python",
   "pygments_lexer": "ipython3",
   "version": "3.10.9"
  },
  "orig_nbformat": 4
 },
 "nbformat": 4,
 "nbformat_minor": 2
}
