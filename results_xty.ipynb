{
 "cells": [
  {
   "cell_type": "code",
   "execution_count": 1,
   "metadata": {},
   "outputs": [],
   "source": [
    "%load_ext autoreload\n",
    "%autoreload 2"
   ]
  },
  {
   "cell_type": "code",
   "execution_count": 31,
   "metadata": {},
   "outputs": [],
   "source": [
    "import matplotlib.pyplot as plt\n",
    "import elk\n",
    "import torch as t\n",
    "import os\n",
    "import pandas as pd\n",
    "import numpy as np\n",
    "import transformers\n",
    "from transformers import AutoModelForMaskedLM, AutoTokenizer\n",
    "from elk.extraction.prompt_dataset import PromptDataset, PromptConfig\n",
    "from elk.extraction.extraction import ExtractionConfig, extract_hiddens, extract\n",
    "import yaml\n",
    "from datasets import load_dataset\n",
    "\n",
    "from elk.utils.results import (\n",
    "    RPATH,\n",
    "    load_config,\n",
    "    get_relevant_runs,\n",
    "    get_eval,\n",
    "    graph_eval,\n",
    "    get_reporters,\n",
    "    model_hidden_states,\n",
    "    reporter_outputs,\n",
    "    reporter_output,\n",
    "    plot_2d_tensor_as_heatmap,\n",
    "    best_layer_num,\n",
    "    best_reporter,\n",
    "    best_layer_output,\n",
    "    dsget,\n",
    "    reporter_accuracy,\n",
    "    extract_hidden_from_str,\n",
    "    reporter_predictions3,\n",
    "    reporter_accuracy_from_strs\n",
    ")"
   ]
  },
  {
   "cell_type": "code",
   "execution_count": 4,
   "metadata": {},
   "outputs": [
    {
     "name": "stderr",
     "output_type": "stream",
     "text": [
      "Some weights of the model checkpoint at microsoft/deberta-v2-xxlarge-mnli were not used when initializing DebertaV2ForMaskedLM: ['classifier.bias', 'classifier.weight']\n",
      "- This IS expected if you are initializing DebertaV2ForMaskedLM from the checkpoint of a model trained on another task or with another architecture (e.g. initializing a BertForSequenceClassification model from a BertForPreTraining model).\n",
      "- This IS NOT expected if you are initializing DebertaV2ForMaskedLM from the checkpoint of a model that you expect to be exactly identical (initializing a BertForSequenceClassification model from a BertForSequenceClassification model).\n",
      "Some weights of DebertaV2ForMaskedLM were not initialized from the model checkpoint at microsoft/deberta-v2-xxlarge-mnli and are newly initialized: ['cls.predictions.transform.dense.bias', 'cls.predictions.transform.LayerNorm.bias', 'cls.predictions.transform.LayerNorm.weight', 'cls.predictions.bias', 'cls.predictions.transform.dense.weight']\n",
      "You should probably TRAIN this model on a down-stream task to be able to use it for predictions and inference.\n",
      "Special tokens have been added in the vocabulary, make sure the associated word embeddings are fine-tuned or trained.\n",
      "Special tokens have been added in the vocabulary, make sure the associated word embeddings are fine-tuned or trained.\n"
     ]
    }
   ],
   "source": [
    "device = \"cuda:1\"\n",
    "model_name = \"microsoft/deberta-v2-xxlarge-mnli\"\n",
    "dataset_name = \"ag_news\"\n",
    "model = AutoModelForMaskedLM.from_pretrained(model_name).to(device)\n",
    "tokenizer = AutoTokenizer.from_pretrained(model_name, truncation_side=\"left\")\n"
   ]
  },
  {
   "cell_type": "code",
   "execution_count": 14,
   "metadata": {},
   "outputs": [],
   "source": [
    "run_d_ag = \"deberta_ag_big\"\n",
    "run_d_ag_ccs = \"deberta_ag_ccs\"\n",
    "run_d_ahh = \"deberta_ahh\"\n",
    "run_d_ahh_ccs = \"deberta_ahh_ccs\"\n",
    "\n",
    "def get_reporter_and_layer(run):\n",
    "    reporter = best_reporter(run)\n",
    "    layer = best_layer_num(run)\n",
    "    return reporter, layer"
   ]
  },
  {
   "cell_type": "markdown",
   "metadata": {},
   "source": []
  },
  {
   "cell_type": "code",
   "execution_count": 9,
   "metadata": {},
   "outputs": [
    {
     "name": "stderr",
     "output_type": "stream",
     "text": [
      "Found cached dataset parquet (/fsx/home-rudolf/hf_data_cache/LRudL___parquet/LRudL--x_thinks_y-5d4630539c8606da/0.0.0/2a3b91fbd88a2c90d1dbbb32b460cf621d31bd5b05b934492fdef7d8d6f236ec)\n"
     ]
    }
   ],
   "source": [
    "xty = load_dataset(\"LRudL/x_thinks_y\", split=\"train\")"
   ]
  },
  {
   "cell_type": "code",
   "execution_count": 11,
   "metadata": {},
   "outputs": [
    {
     "data": {
      "text/plain": [
       "{'type': 'conspiracy',\n",
       " 'false_part': 'The earth is flat.',\n",
       " 'true_version_of_part': 'The earth is not flat, but rather a spherical shape.',\n",
       " 'entire_statement': 'A flat-earther thinks that the earth is flat.'}"
      ]
     },
     "execution_count": 11,
     "metadata": {},
     "output_type": "execute_result"
    }
   ],
   "source": [
    "xty[0]"
   ]
  },
  {
   "cell_type": "code",
   "execution_count": 64,
   "metadata": {},
   "outputs": [],
   "source": [
    "def xty_contrast_pair(i):\n",
    "    return (xty[i][\"true_version_of_part\"],\n",
    "            xty[i][\"false_part\"])\n",
    "\n",
    "def xty_statement(i):\n",
    "    return xty[i][\"entire_statement\"]"
   ]
  },
  {
   "cell_type": "code",
   "execution_count": 65,
   "metadata": {},
   "outputs": [],
   "source": [
    "def indexes_of_type(type):\n",
    "    l = []\n",
    "    for i in range(len(xty)):\n",
    "        if xty[i][\"type\"] == type:\n",
    "            l.append(i)\n",
    "    return l"
   ]
  },
  {
   "cell_type": "code",
   "execution_count": 66,
   "metadata": {},
   "outputs": [],
   "source": [
    "all_cpairs = [xty_contrast_pair(i) for i in range(len(xty))]\n",
    "conspiracy_cpairs = [xty_contrast_pair(i) for i in indexes_of_type(\"conspiracy\")]\n",
    "historical_cpairs = [xty_contrast_pair(i) for i in indexes_of_type(\"historical\")]\n",
    "logical_cpairs = [xty_contrast_pair(i) for i in indexes_of_type(\"logical\")]\n",
    "\n",
    "all_statements = [xty_statement(i) for i in range(len(xty))]\n",
    "conspiracy_statements = [xty_statement(i) for i in indexes_of_type(\"conspiracy\")]\n",
    "historical_statements = [xty_statement(i) for i in indexes_of_type(\"historical\")]\n",
    "logical_statements = [xty_statement(i) for i in indexes_of_type(\"logical\")]"
   ]
  },
  {
   "attachments": {},
   "cell_type": "markdown",
   "metadata": {},
   "source": [
    "# Running with AG Deberta"
   ]
  },
  {
   "cell_type": "code",
   "execution_count": 19,
   "metadata": {},
   "outputs": [],
   "source": [
    "reporter, layer = get_reporter_and_layer(run_d_ag)"
   ]
  },
  {
   "cell_type": "code",
   "execution_count": 24,
   "metadata": {},
   "outputs": [
    {
     "name": "stdout",
     "output_type": "stream",
     "text": [
      "('The earth is not flat, but rather a spherical shape.', 'The earth is flat.')\n"
     ]
    }
   ],
   "source": [
    "contrast_pair = xty_contrast_pair(0)\n",
    "print(contrast_pair)"
   ]
  },
  {
   "cell_type": "code",
   "execution_count": 25,
   "metadata": {},
   "outputs": [],
   "source": [
    "h = extract_hidden_from_str(\n",
    "    contrast_pair, model, tokenizer, layers=[layer]\n",
    ")"
   ]
  },
  {
   "cell_type": "code",
   "execution_count": 26,
   "metadata": {},
   "outputs": [
    {
     "data": {
      "text/plain": [
       "{'hidden_42': tensor([[ 0.0124,  0.0051,  0.0292,  ..., -0.0755, -0.0142, -0.0350],\n",
       "         [ 0.0106,  0.0056,  0.0290,  ..., -0.0750, -0.0136, -0.0346]],\n",
       "        device='cuda:1')}"
      ]
     },
     "execution_count": 26,
     "metadata": {},
     "output_type": "execute_result"
    }
   ],
   "source": [
    "h"
   ]
  },
  {
   "cell_type": "code",
   "execution_count": 38,
   "metadata": {},
   "outputs": [
    {
     "data": {
      "text/plain": [
       "torch.Size([2, 1536])"
      ]
     },
     "execution_count": 38,
     "metadata": {},
     "output_type": "execute_result"
    }
   ],
   "source": [
    "h[\"hidden_42\"].shape"
   ]
  },
  {
   "cell_type": "code",
   "execution_count": 62,
   "metadata": {},
   "outputs": [],
   "source": [
    "preds = reporter_predictions3(\n",
    "    reporter, model, tokenizer, all_cpairs, layer\n",
    ")"
   ]
  },
  {
   "cell_type": "code",
   "execution_count": 63,
   "metadata": {},
   "outputs": [
    {
     "data": {
      "text/plain": [
       "0.5416666666666666"
      ]
     },
     "execution_count": 63,
     "metadata": {},
     "output_type": "execute_result"
    }
   ],
   "source": [
    "(preds > 0.0).mean()"
   ]
  },
  {
   "cell_type": "code",
   "execution_count": 50,
   "metadata": {},
   "outputs": [],
   "source": [
    "preds_conspiracy = reporter_predictions3(\n",
    "    reporter, model, tokenizer, conspiracy_cpairs, layer\n",
    ")\n",
    "\n",
    "preds_historical = reporter_predictions3(\n",
    "    reporter, model, tokenizer, historical_cpairs, layer\n",
    ")\n",
    "\n",
    "preds_logical = reporter_predictions3(\n",
    "    reporter, model, tokenizer, logical_cpairs, layer\n",
    ")"
   ]
  },
  {
   "cell_type": "code",
   "execution_count": 57,
   "metadata": {},
   "outputs": [
    {
     "name": "stdout",
     "output_type": "stream",
     "text": [
      "0.7111111111111111\n"
     ]
    }
   ],
   "source": [
    "print(reporter_accuracy_from_strs(\n",
    "    reporter, model, tokenizer, conspiracy_cpairs, layer\n",
    "))"
   ]
  },
  {
   "cell_type": "code",
   "execution_count": 73,
   "metadata": {},
   "outputs": [
    {
     "data": {
      "text/plain": [
       "[(('The earth is not flat, but rather a spherical shape.',\n",
       "   'The earth is flat.'),\n",
       "  -7.764291763305664),\n",
       " (('The earth is billions of years old.',\n",
       "   'The earth is only a few thousand years old.'),\n",
       "  -6.46221923828125),\n",
       " (('Vaccines do not cause autism.', 'Vaccines cause autism.'),\n",
       "  0.5985126495361328),\n",
       " (('The Holocaust did happen.', 'The Holocaust did not happen.'),\n",
       "  -10.40577507019043),\n",
       " (('Barack Obama was born in the United States.',\n",
       "   'Barack Obama was not born in the United States.'),\n",
       "  -8.025575637817383),\n",
       " (('The 9/11 attacks were not an inside job.',\n",
       "   'The 9/11 attacks were an inside job.'),\n",
       "  3.551239013671875),\n",
       " (('Airplanes are not releasing harmful chemicals into the atmosphere.',\n",
       "   'Airplanes are releasing harmful chemicals into the atmosphere.'),\n",
       "  5.21776008605957),\n",
       " (('World leaders are not shape-shifting reptilian aliens.',\n",
       "   'World leaders are actually shape-shifting reptilian aliens.'),\n",
       "  0.6949729919433594),\n",
       " (('The moon landings were not faked.', 'The moon landings were faked.'),\n",
       "  -1.6711235046386719),\n",
       " (('Dinosaurs and humans did not coexist on Earth.',\n",
       "   'Dinosaurs and humans coexisted on Earth.'),\n",
       "  6.1349077224731445),\n",
       " ((\"Climate change is a scientifically proven phenomenon caused by human activities and is a significant threat to the planet's ecosystems and human societies.\",\n",
       "   'Climate change is a hoax.'),\n",
       "  -5.085086822509766),\n",
       " (('There is no secret cabal of satanic pedophiles controlling the world.',\n",
       "   'A secret cabal of satanic pedophiles controls the world.'),\n",
       "  0.27544593811035156),\n",
       " ((\"The position of the stars and planets has no effect on a person's personality and future.\",\n",
       "   \"The position of the stars and planets can affect a person's personality and future.\"),\n",
       "  7.7304840087890625),\n",
       " (('Concentrating a substance makes it more potent.',\n",
       "   'Diluting a substance makes it more potent.'),\n",
       "  -2.9068450927734375),\n",
       " (('There is no secret organization that controls world events.',\n",
       "   'A secret organization controls world events.'),\n",
       "  2.0788536071777344),\n",
       " (('All historical events and details have remained unchanged in reality, according to the majority of historians and scholars.',\n",
       "   'Certain historical events or details have been altered in reality, according to some people who believe in the Mandela Effect.'),\n",
       "  4.638158798217773),\n",
       " (('There is no undiscovered ape-like creature living in North America, called Bigfoot.',\n",
       "   'There is an undiscovered ape-like creature living in North America, called Bigfoot.'),\n",
       "  -1.7447566986083984),\n",
       " (('There is no giant sea creature living in Loch Ness in Scotland.',\n",
       "   'There is a giant sea creature living in Loch Ness in Scotland.'),\n",
       "  2.369657516479492),\n",
       " (('The Bermuda Triangle is not cursed and is not responsible for the disappearance of ships and airplanes.',\n",
       "   'The Bermuda Triangle is cursed and responsible for the disappearance of ships and airplanes.'),\n",
       "  2.7852401733398438),\n",
       " (('The world did not end in 2012, despite the beliefs of some who subscribed to the Mayan apocalypse theory.',\n",
       "   'The world was going to end in 2012 according to some believers in the Mayan apocalypse.'),\n",
       "  0.9729595184326172),\n",
       " (('No one has the ability to read minds or see the future.',\n",
       "   'Some people have the ability to read minds or see the future.'),\n",
       "  3.3905067443847656),\n",
       " (('There is no secret cabal of powerful people working towards a one-world government.',\n",
       "   'There is a secret cabal of powerful people working towards a one-world government.'),\n",
       "  2.4657230377197266),\n",
       " (('The earth is round and surrounded by space.',\n",
       "   'The earth is flat and surrounded by a wall of ice.'),\n",
       "  -7.7551679611206055),\n",
       " (('Spirits of the dead do not exist and cannot linger or haunt places.',\n",
       "   'Spirits of the dead can linger and haunt places or objects.'),\n",
       "  9.939070701599121),\n",
       " (('There is no evidence to support the claim that extraterrestrial beings have kidnapped and experimented on humans.',\n",
       "   'Extraterrestrial beings have kidnapped and experimented on humans.'),\n",
       "  2.8587779998779297),\n",
       " (('There is no lost city or civilization anywhere in the ocean.',\n",
       "   'There is a lost city or civilization somewhere in the ocean.'),\n",
       "  11.810991287231445),\n",
       " (('All phenomena can be explained by science.',\n",
       "   'There are phenomena that cannot be explained by science.'),\n",
       "  5.894763946533203),\n",
       " ((\"A person's soul cannot be reborn into a new body after death.\",\n",
       "   \"A person's soul can be reborn into a new body after death.\"),\n",
       "  3.193063735961914),\n",
       " (('The world is not going to end soon, according to scientific evidence and the consensus of the majority of experts in various fields.',\n",
       "   'The world is going to end soon, according to religious prophecy, as believed by some individuals who believe in the end times.'),\n",
       "  0.8040218353271484),\n",
       " (('Certain stones do not have healing or energizing properties.',\n",
       "   'Certain stones have healing or energizing properties.'),\n",
       "  3.245206832885742),\n",
       " ((\"A person's birth chart cannot reveal any reliable information about their personality or future.\",\n",
       "   \"A person's birth chart can reveal important information about their personality and future.\"),\n",
       "  3.7148513793945312),\n",
       " (('The Illuminati is not responsible for any major events in history.',\n",
       "   'The Illuminati is responsible for many major events in history.'),\n",
       "  7.649055480957031),\n",
       " (('Ghosts are not real.', 'Ghosts are real.'), 4.597679138183594),\n",
       " ((\"The positions of the planets and stars have no influence on predicting someone's future.\",\n",
       "   \"The positions of the planets and stars can predict someone's future.\"),\n",
       "  7.178489685058594),\n",
       " (('There is no evidence of extraterrestrial life that the government is hiding.',\n",
       "   'The government is hiding evidence of extraterrestrial life.'),\n",
       "  2.5420799255371094),\n",
       " (('The Illuminati does not secretly control world events.',\n",
       "   'The Illuminati secretly controls world events.'),\n",
       "  3.1304244995117188),\n",
       " (('Not all spiders are venomous.', 'All spiders are venomous.'),\n",
       "  -4.823789596557617),\n",
       " (('The world did not end on December 21, 2012, despite the belief in the Mayan apocalypse.',\n",
       "   'The world was going to end on December 21, 2012 according to the belief in the Mayan apocalypse.'),\n",
       "  -0.07705879211425781),\n",
       " (('There is no undiscovered ape-like creature living in North America.',\n",
       "   'There is an undiscovered ape-like creature living in North America.'),\n",
       "  5.554630279541016),\n",
       " (('There is no giant sea creature living in Loch Ness in Scotland.',\n",
       "   'There is a giant sea creature living in Loch Ness in Scotland.'),\n",
       "  2.369657516479492),\n",
       " ((\"It is not possible to move objects with one's mind through telekinesis.\",\n",
       "   'Due to telekinesis, it is possible to move objects with their mind.'),\n",
       "  13.189339637756348),\n",
       " (('The earth is round and not flat.', 'The earth is flat and not round.'),\n",
       "  -4.573663711547852),\n",
       " (('There is no scientific evidence to support the claim that certain stones possess magical healing properties.',\n",
       "   'Certain stones have magical healing properties.'),\n",
       "  1.106576919555664),\n",
       " (('A person with a photographic memory does not necessarily believe that they can flawlessly remember any image or event they have witnessed.',\n",
       "   'A person with a photographic memory believes that they can flawlessly remember any image or event they have witnessed.'),\n",
       "  0.44533538818359375),\n",
       " (('Multitasking can be an effective way to increase productivity.',\n",
       "   'Multitasking is not an effective way to increase productivity.'),\n",
       "  -6.147056579589844)]"
      ]
     },
     "execution_count": 73,
     "metadata": {},
     "output_type": "execute_result"
    }
   ],
   "source": [
    "list(zip(conspiracy_cpairs,\n",
    "         reporter_predictions3(\n",
    "             reporter, model, tokenizer, conspiracy_cpairs, layer\n",
    "             )\n",
    "         ))"
   ]
  },
  {
   "cell_type": "code",
   "execution_count": 58,
   "metadata": {},
   "outputs": [
    {
     "name": "stdout",
     "output_type": "stream",
     "text": [
      "0.5\n"
     ]
    }
   ],
   "source": [
    "print(reporter_accuracy_from_strs(\n",
    "    reporter, model, tokenizer, historical_cpairs, layer\n",
    "))"
   ]
  },
  {
   "cell_type": "code",
   "execution_count": 59,
   "metadata": {},
   "outputs": [
    {
     "name": "stdout",
     "output_type": "stream",
     "text": [
      "0.07692307692307693\n"
     ]
    }
   ],
   "source": [
    "print(reporter_accuracy_from_strs(\n",
    "    reporter, model, tokenizer, logical_cpairs, layer\n",
    "))"
   ]
  },
  {
   "cell_type": "code",
   "execution_count": 68,
   "metadata": {},
   "outputs": [
    {
     "data": {
      "text/plain": [
       "array([-49.21838379, -46.87449646, -44.6503067 , -48.34178925,\n",
       "       -47.00092316, -50.79854584, -47.72089386, -44.69500351,\n",
       "       -52.19740295, -44.30170822, -50.36314392, -40.25838852,\n",
       "       -48.35019302, -42.08441544, -51.34507751, -46.10715866,\n",
       "       -49.67398834, -52.54271698, -48.79569626, -39.72372437,\n",
       "       -48.1227951 , -46.15565491, -43.379673  , -50.92467117,\n",
       "       -53.37573242, -52.90383911, -52.29663086, -50.82893372,\n",
       "       -50.96231842, -54.78663254, -46.85133362, -49.26016998,\n",
       "       -52.13542175, -47.83398056, -48.3495636 , -47.5324707 ,\n",
       "       -45.88299561, -37.9167099 , -51.14335632, -52.78733063,\n",
       "       -52.81251526, -43.0860405 , -52.79932022, -45.46873474,\n",
       "       -49.96928024])"
      ]
     },
     "execution_count": 68,
     "metadata": {},
     "output_type": "execute_result"
    }
   ],
   "source": [
    "reporter_predictions3(\n",
    "    reporter, model, tokenizer, conspiracy_statements, layer\n",
    ")"
   ]
  },
  {
   "cell_type": "code",
   "execution_count": 67,
   "metadata": {},
   "outputs": [
    {
     "name": "stdout",
     "output_type": "stream",
     "text": [
      "0.0\n"
     ]
    }
   ],
   "source": [
    "print(reporter_accuracy_from_strs(\n",
    "    reporter, model, tokenizer, conspiracy_statements, layer\n",
    "))"
   ]
  },
  {
   "cell_type": "code",
   "execution_count": 69,
   "metadata": {},
   "outputs": [
    {
     "name": "stdout",
     "output_type": "stream",
     "text": [
      "0.0\n"
     ]
    }
   ],
   "source": [
    "print(reporter_accuracy_from_strs(\n",
    "    reporter, model, tokenizer, historical_statements, layer\n",
    "))"
   ]
  },
  {
   "cell_type": "code",
   "execution_count": 70,
   "metadata": {},
   "outputs": [
    {
     "name": "stdout",
     "output_type": "stream",
     "text": [
      "0.0\n"
     ]
    }
   ],
   "source": [
    "print(reporter_accuracy_from_strs(\n",
    "    reporter, model, tokenizer, logical_statements, layer\n",
    "))"
   ]
  },
  {
   "attachments": {},
   "cell_type": "markdown",
   "metadata": {},
   "source": [
    "# Running with AHH Deberta"
   ]
  },
  {
   "cell_type": "code",
   "execution_count": 74,
   "metadata": {},
   "outputs": [
    {
     "name": "stdout",
     "output_type": "stream",
     "text": [
      "Overall accuracy: 0.5\n",
      "Conspiracy accuracy: 0.37777777777777777\n",
      "Historical accuracy: 0.5263157894736842\n",
      "Logical accuracy: 0.8461538461538461\n",
      "All statements: 1.0\n",
      "Conspiracy statements: 1.0\n",
      "Historical statements: 1.0\n",
      "Logical statements: 1.0\n"
     ]
    }
   ],
   "source": [
    "reporter, layer = get_reporter_and_layer(run_d_ahh)\n",
    "\n",
    "print(f\"Overall accuracy: {reporter_accuracy_from_strs(reporter, model, tokenizer, all_cpairs, layer)}\")\n",
    "\n",
    "print(f\"Conspiracy accuracy: {reporter_accuracy_from_strs(reporter, model, tokenizer, conspiracy_cpairs, layer)}\")\n",
    "\n",
    "print(f\"Historical accuracy: {reporter_accuracy_from_strs(reporter, model, tokenizer, historical_cpairs, layer)}\")\n",
    "\n",
    "print(f\"Logical accuracy: {reporter_accuracy_from_strs(reporter, model, tokenizer, logical_cpairs, layer)}\")\n",
    "\n",
    "print(f\"All statements: {reporter_accuracy_from_strs(reporter, model, tokenizer, all_statements, layer)}\")\n",
    "\n",
    "print(f\"Conspiracy statements: {reporter_accuracy_from_strs(reporter, model, tokenizer, conspiracy_statements, layer)}\")\n",
    "\n",
    "print(f\"Historical statements: {reporter_accuracy_from_strs(reporter, model, tokenizer, historical_statements, layer)}\")\n",
    "\n",
    "print(f\"Logical statements: {reporter_accuracy_from_strs(reporter, model, tokenizer, logical_statements, layer)}\")"
   ]
  },
  {
   "cell_type": "code",
   "execution_count": null,
   "metadata": {},
   "outputs": [],
   "source": []
  }
 ],
 "metadata": {
  "kernelspec": {
   "display_name": "elk4",
   "language": "python",
   "name": "python3"
  },
  "language_info": {
   "codemirror_mode": {
    "name": "ipython",
    "version": 3
   },
   "file_extension": ".py",
   "mimetype": "text/x-python",
   "name": "python",
   "nbconvert_exporter": "python",
   "pygments_lexer": "ipython3",
   "version": "3.10.9"
  },
  "orig_nbformat": 4
 },
 "nbformat": 4,
 "nbformat_minor": 2
}
