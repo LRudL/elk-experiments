{
 "cells": [
  {
   "cell_type": "code",
   "execution_count": 1,
   "metadata": {},
   "outputs": [],
   "source": [
    "%load_ext autoreload\n",
    "%autoreload 2"
   ]
  },
  {
   "cell_type": "code",
   "execution_count": 20,
   "metadata": {},
   "outputs": [],
   "source": [
    "import matplotlib.pyplot as plt\n",
    "import elk\n",
    "import torch as t\n",
    "import os\n",
    "import pandas as pd\n",
    "import transformers\n",
    "from transformers import AutoModelForMaskedLM, AutoTokenizer\n",
    "from elk.extraction.prompt_dataset import PromptDataset, PromptConfig\n",
    "from elk.extraction.extraction import ExtractionConfig, extract_hiddens, extract\n",
    "import yaml"
   ]
  },
  {
   "cell_type": "code",
   "execution_count": 61,
   "metadata": {},
   "outputs": [],
   "source": [
    "device = \"cuda\""
   ]
  },
  {
   "cell_type": "code",
   "execution_count": 62,
   "metadata": {},
   "outputs": [
    {
     "name": "stderr",
     "output_type": "stream",
     "text": [
      "Some weights of the model checkpoint at microsoft/deberta-v2-xxlarge-mnli were not used when initializing DebertaV2ForMaskedLM: ['classifier.bias', 'classifier.weight']\n",
      "- This IS expected if you are initializing DebertaV2ForMaskedLM from the checkpoint of a model trained on another task or with another architecture (e.g. initializing a BertForSequenceClassification model from a BertForPreTraining model).\n",
      "- This IS NOT expected if you are initializing DebertaV2ForMaskedLM from the checkpoint of a model that you expect to be exactly identical (initializing a BertForSequenceClassification model from a BertForSequenceClassification model).\n",
      "Some weights of DebertaV2ForMaskedLM were not initialized from the model checkpoint at microsoft/deberta-v2-xxlarge-mnli and are newly initialized: ['cls.predictions.transform.dense.weight', 'cls.predictions.transform.LayerNorm.weight', 'cls.predictions.transform.LayerNorm.bias', 'cls.predictions.transform.dense.bias', 'cls.predictions.bias']\n",
      "You should probably TRAIN this model on a down-stream task to be able to use it for predictions and inference.\n",
      "Special tokens have been added in the vocabulary, make sure the associated word embeddings are fine-tuned or trained.\n",
      "Special tokens have been added in the vocabulary, make sure the associated word embeddings are fine-tuned or trained.\n"
     ]
    }
   ],
   "source": [
    "model_name = \"microsoft/deberta-v2-xxlarge-mnli\"\n",
    "dataset_name = \"ag_news\"\n",
    "model = AutoModelForMaskedLM.from_pretrained(model_name).to(device)\n",
    "tokenizer = AutoTokenizer.from_pretrained(model_name)"
   ]
  },
  {
   "cell_type": "code",
   "execution_count": 105,
   "metadata": {},
   "outputs": [
    {
     "name": "stderr",
     "output_type": "stream",
     "text": [
      "Found cached dataset ag_news (/fsx/home-rudolf/hf_data_cache/ag_news/default/0.0.0/bc2bcb40336ace1a0374767fc29bb0296cdaf8a6da7298436239c54d79180548)\n",
      "100%|██████████| 2/2 [00:00<00:00, 604.98it/s]\n",
      "Loading cached shuffled indices for dataset at /fsx/home-rudolf/hf_data_cache/ag_news/default/0.0.0/bc2bcb40336ace1a0374767fc29bb0296cdaf8a6da7298436239c54d79180548/cache-dd0ff9596fea92b0.arrow\n"
     ]
    }
   ],
   "source": [
    "prompt_config = PromptConfig(dataset_name)\n",
    "dataset = PromptDataset(prompt_config, split=\"train\")"
   ]
  },
  {
   "cell_type": "code",
   "execution_count": 109,
   "metadata": {},
   "outputs": [],
   "source": [
    "def get_ccs_pair(prompt):\n",
    "    return (\n",
    "        f\"{prompt.question} {prompt.answers[0]}\",\n",
    "        f\"{prompt.question} {prompt.answers[1]}\"\n",
    "    )"
   ]
  },
  {
   "cell_type": "code",
   "execution_count": 111,
   "metadata": {},
   "outputs": [
    {
     "data": {
      "text/plain": [
       "Prompt(prefix='', template=<elk.promptsource.templates.Template object at 0x7fe75728da80>, example={'text': 'Bangladesh paralysed by strikes Opposition activists have brought many towns and cities in Bangladesh to a halt, the day after 18 people died in explosions at a political rally.', 'label': 0}, label=1, label_column='label')"
      ]
     },
     "execution_count": 111,
     "metadata": {},
     "output_type": "execute_result"
    }
   ],
   "source": [
    "dataset[0][0]"
   ]
  },
  {
   "cell_type": "code",
   "execution_count": 114,
   "metadata": {},
   "outputs": [],
   "source": [
    "def dsget(dataset, i):\n",
    "    return \"\".join(list(dataset.prompter.templates.values())[0].apply(\n",
    "        dataset.active_split[i]\n",
    "    ))"
   ]
  },
  {
   "cell_type": "code",
   "execution_count": 115,
   "metadata": {},
   "outputs": [
    {
     "data": {
      "text/plain": [
       "'What label best describes this news article?\\nBangladesh paralysed by strikes Opposition activists have brought many towns and cities in Bangladesh to a halt, the day after 18 people died in explosions at a political rally.\\nWorld politics'"
      ]
     },
     "execution_count": 115,
     "metadata": {},
     "output_type": "execute_result"
    }
   ],
   "source": [
    "dsget(dataset, 0)"
   ]
  },
  {
   "cell_type": "code",
   "execution_count": 4,
   "metadata": {},
   "outputs": [],
   "source": [
    "RPATH = \"/fsx/home-rudolf/elk-reporters\"\n",
    "\n",
    "def load_config(name, rpath=RPATH):\n",
    "    \"\"\"Loads yaml config from RPATH/[name]/cfg.yaml\"\"\"\n",
    "    with open(os.path.join(rpath, name, \"cfg.yaml\"), \"r\") as f:\n",
    "        return yaml.safe_load(f)"
   ]
  },
  {
   "cell_type": "code",
   "execution_count": 7,
   "metadata": {},
   "outputs": [
    {
     "data": {
      "text/plain": [
       "{'data': {'layers': [],\n",
       "  'model': 'microsoft/deberta-v2-xxlarge-mnli',\n",
       "  'prompts': {'balance': False,\n",
       "   'data_dir': None,\n",
       "   'dataset': 'ag_news',\n",
       "   'label_column': None,\n",
       "   'max_examples': [750, 250],\n",
       "   'num_classes': None,\n",
       "   'num_shots': 0,\n",
       "   'num_variants': 1,\n",
       "   'seed': 42},\n",
       "  'token_loc': 'last'},\n",
       " 'debug': False,\n",
       " 'max_gpus': -1,\n",
       " 'net': {'activation': 'gelu',\n",
       "  'bias': True,\n",
       "  'hidden_size': None,\n",
       "  'init': 'default',\n",
       "  'loss': ['1.0*ccs'],\n",
       "  'loss_dict': {'ccs': 1.0},\n",
       "  'lr': 0.01,\n",
       "  'net_name': 'ccs',\n",
       "  'num_epochs': 1000,\n",
       "  'num_layers': 1,\n",
       "  'num_tries': 10,\n",
       "  'optimizer': 'lbfgs',\n",
       "  'pre_ln': False,\n",
       "  'seed': 999,\n",
       "  'supervised_weight': 0.0,\n",
       "  'weight_decay': 0.01},\n",
       " 'normalization': 'meanonly',\n",
       " 'optim': {'lr': 0.01,\n",
       "  'num_epochs': 1000,\n",
       "  'num_tries': 10,\n",
       "  'optimizer': 'lbfgs',\n",
       "  'weight_decay': 0.01},\n",
       " 'skip_baseline': False}"
      ]
     },
     "execution_count": 7,
     "metadata": {},
     "output_type": "execute_result"
    }
   ],
   "source": [
    "load_config(\"friendly-montalcini\")"
   ]
  },
  {
   "cell_type": "code",
   "execution_count": 63,
   "metadata": {},
   "outputs": [],
   "source": [
    "def get_relevant_runs(reqs, rpath=RPATH):\n",
    "    \"\"\"Requirements is a dictionary of the form:\n",
    "    property specification, e.g. \"data.prompts.dataset\"\n",
    "    --->\n",
    "    required value\"\"\"\n",
    "    valid_reporters = []\n",
    "    for name in os.listdir(rpath):\n",
    "        cfg = load_config(name, rpath)\n",
    "        add = True\n",
    "        for prop, reqval in reqs.items():\n",
    "            prop_parts = prop.split(\".\")\n",
    "            temp = cfg\n",
    "            for next_level in prop_parts:\n",
    "                if next_level in temp.keys():\n",
    "                    temp = temp[next_level]\n",
    "                else:\n",
    "                    add = False\n",
    "                    break\n",
    "            if temp != reqval:\n",
    "                add = False\n",
    "                break\n",
    "        if add:\n",
    "            valid_reporters.append(name)\n",
    "    return valid_reporters\n",
    "\n",
    "def get_eval(run_name):\n",
    "    return pd.read_csv(os.path.join(RPATH, run_name, \"eval.csv\"))\n",
    "\n",
    "def graph_eval(run_name):\n",
    "    eval = get_eval(run_name)\n",
    "    fig, ax = plt.subplots()\n",
    "    ax.scatter(eval[\"layer\"], eval[\"acc\"], label=\"acc\")\n",
    "    ax.scatter(eval[\"layer\"], eval[\"lr_acc\"], label=\"LR acc\")\n",
    "    ax.legend()\n",
    "    ax.set_title(f\"{load_config(run_name)['data']['model']} on {load_config(run_name)['data']['prompts']['dataset']}\")\n",
    "    ax.set_xlabel(\"Layer\")\n",
    "    ax.set_ylabel(\"Accuracy\")\n",
    "    fig.show()\n",
    "\n",
    "def num_from_str(s):\n",
    "    \"\"\"Strip all non-numeric characters from s and interpret as a number\"\"\"\n",
    "    num_str = ''\n",
    "    for char in s:\n",
    "        if char.isdigit():\n",
    "            num_str += char\n",
    "    if num_str == '':\n",
    "        return None\n",
    "    else:\n",
    "        return int(num_str)\n",
    "\n",
    "def get_reporters(run_name):\n",
    "    r_dict = {\n",
    "        layer_number : t.load(os.path.join(RPATH, run_name, \"reporters\", layer_name)).to(device)\n",
    "        for (layer_number, layer_name) in [\n",
    "            (num_from_str(layer_name), layer_name)\n",
    "            for layer_name in os.listdir(os.path.join(RPATH, run_name, \"reporters\"))\n",
    "            ]\n",
    "        }\n",
    "    return [r_dict[i] for i in range(len(r_dict))]"
   ]
  },
  {
   "cell_type": "code",
   "execution_count": 64,
   "metadata": {},
   "outputs": [],
   "source": [
    "runs = get_relevant_runs(\n",
    "    {\n",
    "        \"data.prompts.dataset\": dataset_name,\n",
    "        \"net.net_name\": \"ccs\",\n",
    "        \"data.model\": model_name\n",
    "    }\n",
    ")"
   ]
  },
  {
   "cell_type": "code",
   "execution_count": 65,
   "metadata": {},
   "outputs": [
    {
     "data": {
      "text/plain": [
       "['objective-ritchie', 'competent-curie', 'vibrant-fermi', 'serene-jang']"
      ]
     },
     "execution_count": 65,
     "metadata": {},
     "output_type": "execute_result"
    }
   ],
   "source": [
    "runs"
   ]
  },
  {
   "cell_type": "code",
   "execution_count": 66,
   "metadata": {},
   "outputs": [],
   "source": [
    "run = runs[-1]"
   ]
  },
  {
   "cell_type": "code",
   "execution_count": 67,
   "metadata": {},
   "outputs": [
    {
     "data": {
      "image/png": "[encoded data removed]",
      "text/plain": [
       "<Figure size 640x480 with 1 Axes>"
      ]
     },
     "metadata": {},
     "output_type": "display_data"
    }
   ],
   "source": [
    "graph_eval(run)"
   ]
  },
  {
   "cell_type": "code",
   "execution_count": 68,
   "metadata": {},
   "outputs": [],
   "source": [
    "reporters = get_reporters(run)"
   ]
  },
  {
   "cell_type": "code",
   "execution_count": 69,
   "metadata": {},
   "outputs": [
    {
     "data": {
      "text/plain": [
       "CcsReporter(\n",
       "  (probe): Sequential(\n",
       "    (0): Linear(in_features=1536, out_features=1, bias=True)\n",
       "  )\n",
       ")"
      ]
     },
     "execution_count": 69,
     "metadata": {},
     "output_type": "execute_result"
    }
   ],
   "source": [
    "reporters[0]"
   ]
  },
  {
   "cell_type": "code",
   "execution_count": 96,
   "metadata": {},
   "outputs": [],
   "source": [
    "def reporter_outputs(reporters, sentence):\n",
    "    inputs = tokenizer(sentence, return_tensors=\"pt\").to(\"cuda\")\n",
    "    outo = model(inputs[\"input_ids\"], output_hidden_states=True)\n",
    "    # the +1 in i+1 is because the first hidden state is the input embedding\n",
    "    return t.stack([r(outo[1][i+1])[0] for i, r in enumerate(reporters)], dim=0)\n",
    "\n",
    "def plot_2d_tensor_as_heatmap(t2d):\n",
    "    fig, ax = plt.subplots()\n",
    "    heatmap = ax.imshow(t2d.cpu().detach().numpy(), cmap=\"hot\", interpolation=\"nearest\")\n",
    "    ax.set_xlabel(\"Token\")\n",
    "    ax.set_ylabel(\"Reporter (=layer)\")\n",
    "    plt.colorbar(heatmap)\n",
    "\n",
    "def best_layer_output(run_name, sentence):\n",
    "    layer_eval = get_eval(run_name)\n",
    "    # find the row in the pandas dataframe layer_eval with the highest accuracy:\n",
    "    best_layer = layer_eval[\"layer\"][layer_eval[\"acc\"].idxmax()]\n",
    "    reporter = get_reporters(run_name)[best_layer]\n",
    "    return reporter_outputs([reporter], sentence)[0]"
   ]
  },
  {
   "cell_type": "code",
   "execution_count": 101,
   "metadata": {},
   "outputs": [
    {
     "data": {
      "text/plain": [
       "tensor([-0.4311, -0.3070, -0.6290, -0.9326, -0.9251, -0.5465, -1.0682, -0.6535,\n",
       "        -0.3852], device='cuda:0', grad_fn=<SelectBackward0>)"
      ]
     },
     "execution_count": 101,
     "metadata": {},
     "output_type": "execute_result"
    }
   ],
   "source": [
    "best_layer_output(run, \"Is 1+1=2? Yes\")"
   ]
  },
  {
   "cell_type": "code",
   "execution_count": 79,
   "metadata": {},
   "outputs": [],
   "source": [
    "r_outs = reporter_outputs(reporters, \"Is 1 + 1 = 2? No\")"
   ]
  },
  {
   "cell_type": "code",
   "execution_count": 80,
   "metadata": {},
   "outputs": [
    {
     "data": {
      "text/plain": [
       "torch.Size([48, 11])"
      ]
     },
     "execution_count": 80,
     "metadata": {},
     "output_type": "execute_result"
    }
   ],
   "source": [
    "r_outs.shape"
   ]
  },
  {
   "cell_type": "code",
   "execution_count": 81,
   "metadata": {},
   "outputs": [
    {
     "data": {
      "image/png": "[encoded data removed]",
      "text/plain": [
       "<Figure size 640x480 with 2 Axes>"
      ]
     },
     "metadata": {},
     "output_type": "display_data"
    }
   ],
   "source": [
    "plot_2d_tensor_as_heatmap(r_outs)"
   ]
  },
  {
   "cell_type": "code",
   "execution_count": null,
   "metadata": {},
   "outputs": [],
   "source": []
  }
 ],
 "metadata": {
  "kernelspec": {
   "display_name": "elk4",
   "language": "python",
   "name": "python3"
  },
  "language_info": {
   "codemirror_mode": {
    "name": "ipython",
    "version": 3
   },
   "file_extension": ".py",
   "mimetype": "text/x-python",
   "name": "python",
   "nbconvert_exporter": "python",
   "pygments_lexer": "ipython3",
   "version": "3.10.9"
  },
  "orig_nbformat": 4
 },
 "nbformat": 4,
 "nbformat_minor": 2
}
