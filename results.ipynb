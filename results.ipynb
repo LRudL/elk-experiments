{
 "cells": [
  {
   "cell_type": "code",
   "execution_count": null,
   "metadata": {},
   "outputs": [],
   "source": [
    "%load_ext autoreload\n",
    "%autoreload 2"
   ]
  },
  {
   "cell_type": "code",
   "execution_count": 2,
   "metadata": {},
   "outputs": [
    {
     "name": "stderr",
     "output_type": "stream",
     "text": [
      "/fsx/home-rudolf/miniconda3/envs/elk4/lib/python3.10/site-packages/tqdm/auto.py:21: TqdmWarning: IProgress not found. Please update jupyter and ipywidgets. See https://ipywidgets.readthedocs.io/en/stable/user_install.html\n",
      "  from .autonotebook import tqdm as notebook_tqdm\n"
     ]
    }
   ],
   "source": [
    "import matplotlib.pyplot as plt\n",
    "import elk\n",
    "import torch as t\n",
    "import os\n",
    "import pandas as pd\n",
    "import numpy as np\n",
    "import transformers\n",
    "from transformers import AutoModelForMaskedLM, AutoTokenizer\n",
    "from elk.extraction.prompt_dataset import PromptDataset, PromptConfig\n",
    "from elk.extraction.extraction import ExtractionConfig, extract_hiddens, extract\n",
    "import yaml"
   ]
  },
  {
   "cell_type": "code",
   "execution_count": 3,
   "metadata": {},
   "outputs": [],
   "source": [
    "device = \"cuda:7\""
   ]
  },
  {
   "cell_type": "code",
   "execution_count": 4,
   "metadata": {},
   "outputs": [
    {
     "name": "stderr",
     "output_type": "stream",
     "text": [
      "Some weights of the model checkpoint at microsoft/deberta-v2-xxlarge-mnli were not used when initializing DebertaV2ForMaskedLM: ['classifier.weight', 'classifier.bias']\n",
      "- This IS expected if you are initializing DebertaV2ForMaskedLM from the checkpoint of a model trained on another task or with another architecture (e.g. initializing a BertForSequenceClassification model from a BertForPreTraining model).\n",
      "- This IS NOT expected if you are initializing DebertaV2ForMaskedLM from the checkpoint of a model that you expect to be exactly identical (initializing a BertForSequenceClassification model from a BertForSequenceClassification model).\n",
      "Some weights of DebertaV2ForMaskedLM were not initialized from the model checkpoint at microsoft/deberta-v2-xxlarge-mnli and are newly initialized: ['cls.predictions.transform.LayerNorm.bias', 'cls.predictions.bias', 'cls.predictions.transform.LayerNorm.weight', 'cls.predictions.transform.dense.weight', 'cls.predictions.transform.dense.bias']\n",
      "You should probably TRAIN this model on a down-stream task to be able to use it for predictions and inference.\n",
      "Special tokens have been added in the vocabulary, make sure the associated word embeddings are fine-tuned or trained.\n",
      "Special tokens have been added in the vocabulary, make sure the associated word embeddings are fine-tuned or trained.\n"
     ]
    }
   ],
   "source": [
    "model_name = \"microsoft/deberta-v2-xxlarge-mnli\"\n",
    "dataset_name = \"ag_news\"\n",
    "model = AutoModelForMaskedLM.from_pretrained(model_name).to(device)\n",
    "tokenizer = AutoTokenizer.from_pretrained(model_name)"
   ]
  },
  {
   "cell_type": "code",
   "execution_count": 5,
   "metadata": {},
   "outputs": [
    {
     "name": "stderr",
     "output_type": "stream",
     "text": [
      "Found cached dataset ag_news (/fsx/home-rudolf/hf_data_cache/ag_news/default/0.0.0/bc2bcb40336ace1a0374767fc29bb0296cdaf8a6da7298436239c54d79180548)\n",
      "100%|██████████| 2/2 [00:00<00:00, 400.51it/s]\n",
      "Loading cached shuffled indices for dataset at /fsx/home-rudolf/hf_data_cache/ag_news/default/0.0.0/bc2bcb40336ace1a0374767fc29bb0296cdaf8a6da7298436239c54d79180548/cache-dd0ff9596fea92b0.arrow\n"
     ]
    }
   ],
   "source": [
    "prompt_config = PromptConfig(dataset_name)\n",
    "dataset = PromptDataset(prompt_config, split=\"train\")"
   ]
  },
  {
   "cell_type": "code",
   "execution_count": 6,
   "metadata": {},
   "outputs": [],
   "source": [
    "s = set()\n",
    "for i in range(len(dataset)):\n",
    "    s.add(dataset[i][0].label)"
   ]
  },
  {
   "cell_type": "code",
   "execution_count": 7,
   "metadata": {},
   "outputs": [
    {
     "data": {
      "text/plain": [
       "{0, 1}"
      ]
     },
     "execution_count": 7,
     "metadata": {},
     "output_type": "execute_result"
    }
   ],
   "source": [
    "s"
   ]
  },
  {
   "cell_type": "code",
   "execution_count": 8,
   "metadata": {},
   "outputs": [],
   "source": [
    "def dsget(dataset, i):\n",
    "    dsi = dataset[i][0]\n",
    "    true, false = list(dsi.to_string(answer_idx) for answer_idx in range(2))\n",
    "    if dsi.label == 1:\n",
    "        return (false, true)\n",
    "    return (true, false)"
   ]
  },
  {
   "cell_type": "code",
   "execution_count": 9,
   "metadata": {},
   "outputs": [
    {
     "data": {
      "text/plain": [
       "('What label best describes this news article?\\nBangladesh paralysed by strikes Opposition activists have brought many towns and cities in Bangladesh to a halt, the day after 18 people died in explosions at a political rally.\\nWorld politics',\n",
       " 'What label best describes this news article?\\nBangladesh paralysed by strikes Opposition activists have brought many towns and cities in Bangladesh to a halt, the day after 18 people died in explosions at a political rally.\\nBusiness')"
      ]
     },
     "execution_count": 9,
     "metadata": {},
     "output_type": "execute_result"
    }
   ],
   "source": [
    "dsget(dataset, 0)"
   ]
  },
  {
   "cell_type": "code",
   "execution_count": 10,
   "metadata": {},
   "outputs": [],
   "source": [
    "RPATH = \"/fsx/home-rudolf/elk-reporters\"\n",
    "\n",
    "def load_config(name, rpath=RPATH):\n",
    "    \"\"\"Loads yaml config from RPATH/[name]/cfg.yaml\"\"\"\n",
    "    with open(os.path.join(rpath, name, \"cfg.yaml\"), \"r\") as f:\n",
    "        return yaml.safe_load(f)"
   ]
  },
  {
   "cell_type": "code",
   "execution_count": 11,
   "metadata": {},
   "outputs": [],
   "source": [
    "def get_relevant_runs(reqs, rpath=RPATH):\n",
    "    \"\"\"Requirements is a dictionary of the form:\n",
    "    property specification, e.g. \"data.prompts.dataset\"\n",
    "    --->\n",
    "    required value\"\"\"\n",
    "    valid_reporters = []\n",
    "    for name in os.listdir(rpath):\n",
    "        cfg = load_config(name, rpath)\n",
    "        add = True\n",
    "        for prop, reqval in reqs.items():\n",
    "            prop_parts = prop.split(\".\")\n",
    "            temp = cfg\n",
    "            for next_level in prop_parts:\n",
    "                if next_level in temp.keys():\n",
    "                    temp = temp[next_level]\n",
    "                else:\n",
    "                    add = False\n",
    "                    break\n",
    "            if temp != reqval:\n",
    "                add = False\n",
    "                break\n",
    "        if add:\n",
    "            valid_reporters.append(name)\n",
    "    return valid_reporters\n",
    "\n",
    "def get_eval(run_name):\n",
    "    return pd.read_csv(os.path.join(RPATH, run_name, \"eval.csv\"))\n",
    "\n",
    "def graph_eval(run_name):\n",
    "    eval = get_eval(run_name)\n",
    "    fig, ax = plt.subplots()\n",
    "    ax.scatter(eval[\"layer\"], eval[\"acc\"], label=\"acc\")\n",
    "    ax.scatter(eval[\"layer\"], eval[\"lr_acc\"], label=\"LR acc\")\n",
    "    ax.legend()\n",
    "    ax.set_title(f\"{load_config(run_name)['data']['model']} on {load_config(run_name)['data']['prompts']['dataset']}\")\n",
    "    ax.set_xlabel(\"Layer\")\n",
    "    ax.set_ylabel(\"Accuracy\")\n",
    "    fig.show()\n",
    "\n",
    "def num_from_str(s):\n",
    "    \"\"\"Strip all non-numeric characters from s and interpret as a number\"\"\"\n",
    "    num_str = ''\n",
    "    for char in s:\n",
    "        if char.isdigit():\n",
    "            num_str += char\n",
    "    if num_str == '':\n",
    "        return None\n",
    "    else:\n",
    "        return int(num_str)\n",
    "\n",
    "def get_reporters(run_name):\n",
    "    r_dict = {\n",
    "        layer_number : t.load(os.path.join(RPATH, run_name, \"reporters\", layer_name)).to(device)\n",
    "        for (layer_number, layer_name) in [\n",
    "            (num_from_str(layer_name), layer_name)\n",
    "            for layer_name in os.listdir(os.path.join(RPATH, run_name, \"reporters\"))\n",
    "            ]\n",
    "        }\n",
    "    return [r_dict[i] for i in range(len(r_dict))]"
   ]
  },
  {
   "cell_type": "code",
   "execution_count": 12,
   "metadata": {},
   "outputs": [],
   "source": [
    "runs = get_relevant_runs(\n",
    "    {\n",
    "        \"data.prompts.dataset\": dataset_name,\n",
    "        \"net.net_name\": \"eigen\",\n",
    "        \"data.model\": model_name\n",
    "    }\n",
    ")"
   ]
  },
  {
   "cell_type": "code",
   "execution_count": 13,
   "metadata": {},
   "outputs": [
    {
     "data": {
      "text/plain": [
       "['infallible-brown', 'priceless-bouman']"
      ]
     },
     "execution_count": 13,
     "metadata": {},
     "output_type": "execute_result"
    }
   ],
   "source": [
    "runs"
   ]
  },
  {
   "cell_type": "code",
   "execution_count": 14,
   "metadata": {},
   "outputs": [],
   "source": [
    "run = runs[-1]"
   ]
  },
  {
   "cell_type": "code",
   "execution_count": 15,
   "metadata": {},
   "outputs": [
    {
     "data": {
      "image/png": "[encoded data removed]",
      "text/plain": [
       "<Figure size 640x480 with 1 Axes>"
      ]
     },
     "metadata": {},
     "output_type": "display_data"
    }
   ],
   "source": [
    "graph_eval(run)"
   ]
  },
  {
   "cell_type": "code",
   "execution_count": 16,
   "metadata": {},
   "outputs": [],
   "source": [
    "# reporters = get_reporters(run)"
   ]
  },
  {
   "cell_type": "code",
   "execution_count": 17,
   "metadata": {},
   "outputs": [],
   "source": [
    "# reporters[0]"
   ]
  },
  {
   "cell_type": "code",
   "execution_count": 18,
   "metadata": {},
   "outputs": [],
   "source": [
    "tokens = tokenizer(\"This is a test\", return_tensors=\"pt\").input_ids.to(device)"
   ]
  },
  {
   "cell_type": "code",
   "execution_count": 19,
   "metadata": {},
   "outputs": [
    {
     "name": "stdout",
     "output_type": "stream",
     "text": [
      "The history saving thread hit an unexpected error (OperationalError('database or disk is full')).History will not be written to the database.\n"
     ]
    }
   ],
   "source": [
    "outo = model(tokens, output_hidden_states=True)"
   ]
  },
  {
   "cell_type": "code",
   "execution_count": 20,
   "metadata": {},
   "outputs": [
    {
     "data": {
      "text/plain": [
       "49"
      ]
     },
     "execution_count": 20,
     "metadata": {},
     "output_type": "execute_result"
    }
   ],
   "source": [
    "len(outo[1])"
   ]
  },
  {
   "cell_type": "code",
   "execution_count": 21,
   "metadata": {},
   "outputs": [
    {
     "data": {
      "text/html": [
       "<div>\n",
       "<style scoped>\n",
       "    .dataframe tbody tr th:only-of-type {\n",
       "        vertical-align: middle;\n",
       "    }\n",
       "\n",
       "    .dataframe tbody tr th {\n",
       "        vertical-align: top;\n",
       "    }\n",
       "\n",
       "    .dataframe thead th {\n",
       "        text-align: right;\n",
       "    }\n",
       "</style>\n",
       "<table border=\"1\" class=\"dataframe\">\n",
       "  <thead>\n",
       "    <tr style=\"text-align: right;\">\n",
       "      <th></th>\n",
       "      <th>layer</th>\n",
       "      <th>pseudo_auroc</th>\n",
       "      <th>train_loss</th>\n",
       "      <th>acc</th>\n",
       "      <th>cal_acc</th>\n",
       "      <th>auroc</th>\n",
       "      <th>ece</th>\n",
       "      <th>lr_auroc</th>\n",
       "      <th>lr_acc</th>\n",
       "    </tr>\n",
       "  </thead>\n",
       "  <tbody>\n",
       "    <tr>\n",
       "      <th>0</th>\n",
       "      <td>0</td>\n",
       "      <td>0.5</td>\n",
       "      <td>-2.0085</td>\n",
       "      <td>0.6080</td>\n",
       "      <td>0.5776</td>\n",
       "      <td>0.5479</td>\n",
       "      <td>0.3901</td>\n",
       "      <td>0.8758</td>\n",
       "      <td>0.7976</td>\n",
       "    </tr>\n",
       "    <tr>\n",
       "      <th>1</th>\n",
       "      <td>1</td>\n",
       "      <td>0.5</td>\n",
       "      <td>-0.0035</td>\n",
       "      <td>0.6080</td>\n",
       "      <td>0.5621</td>\n",
       "      <td>0.5409</td>\n",
       "      <td>0.3906</td>\n",
       "      <td>0.7443</td>\n",
       "      <td>0.6720</td>\n",
       "    </tr>\n",
       "    <tr>\n",
       "      <th>2</th>\n",
       "      <td>2</td>\n",
       "      <td>0.5</td>\n",
       "      <td>-0.0001</td>\n",
       "      <td>0.6080</td>\n",
       "      <td>0.5408</td>\n",
       "      <td>0.5774</td>\n",
       "      <td>0.5862</td>\n",
       "      <td>0.5747</td>\n",
       "      <td>0.5517</td>\n",
       "    </tr>\n",
       "    <tr>\n",
       "      <th>3</th>\n",
       "      <td>3</td>\n",
       "      <td>0.5</td>\n",
       "      <td>-0.0004</td>\n",
       "      <td>0.6080</td>\n",
       "      <td>0.5216</td>\n",
       "      <td>0.5595</td>\n",
       "      <td>0.5857</td>\n",
       "      <td>0.6627</td>\n",
       "      <td>0.6175</td>\n",
       "    </tr>\n",
       "    <tr>\n",
       "      <th>4</th>\n",
       "      <td>4</td>\n",
       "      <td>0.5</td>\n",
       "      <td>-0.0001</td>\n",
       "      <td>0.6080</td>\n",
       "      <td>0.5211</td>\n",
       "      <td>0.5631</td>\n",
       "      <td>0.5749</td>\n",
       "      <td>0.6351</td>\n",
       "      <td>0.6083</td>\n",
       "    </tr>\n",
       "    <tr>\n",
       "      <th>5</th>\n",
       "      <td>5</td>\n",
       "      <td>0.5</td>\n",
       "      <td>-0.0009</td>\n",
       "      <td>0.6080</td>\n",
       "      <td>0.5088</td>\n",
       "      <td>0.5506</td>\n",
       "      <td>0.5858</td>\n",
       "      <td>0.7618</td>\n",
       "      <td>0.6933</td>\n",
       "    </tr>\n",
       "    <tr>\n",
       "      <th>6</th>\n",
       "      <td>6</td>\n",
       "      <td>0.5</td>\n",
       "      <td>-0.0005</td>\n",
       "      <td>0.6080</td>\n",
       "      <td>0.5243</td>\n",
       "      <td>0.5737</td>\n",
       "      <td>0.5746</td>\n",
       "      <td>0.7600</td>\n",
       "      <td>0.6976</td>\n",
       "    </tr>\n",
       "    <tr>\n",
       "      <th>7</th>\n",
       "      <td>7</td>\n",
       "      <td>0.5</td>\n",
       "      <td>-0.0002</td>\n",
       "      <td>0.6080</td>\n",
       "      <td>0.5685</td>\n",
       "      <td>0.5381</td>\n",
       "      <td>0.3912</td>\n",
       "      <td>0.7353</td>\n",
       "      <td>0.6833</td>\n",
       "    </tr>\n",
       "    <tr>\n",
       "      <th>8</th>\n",
       "      <td>8</td>\n",
       "      <td>0.5</td>\n",
       "      <td>-0.0016</td>\n",
       "      <td>0.6080</td>\n",
       "      <td>0.5205</td>\n",
       "      <td>0.5699</td>\n",
       "      <td>0.5740</td>\n",
       "      <td>0.7739</td>\n",
       "      <td>0.7068</td>\n",
       "    </tr>\n",
       "    <tr>\n",
       "      <th>9</th>\n",
       "      <td>9</td>\n",
       "      <td>0.5</td>\n",
       "      <td>-0.0001</td>\n",
       "      <td>0.6080</td>\n",
       "      <td>0.5243</td>\n",
       "      <td>0.5655</td>\n",
       "      <td>0.5859</td>\n",
       "      <td>0.6306</td>\n",
       "      <td>0.6008</td>\n",
       "    </tr>\n",
       "    <tr>\n",
       "      <th>10</th>\n",
       "      <td>10</td>\n",
       "      <td>0.5</td>\n",
       "      <td>-0.0001</td>\n",
       "      <td>0.6080</td>\n",
       "      <td>0.5077</td>\n",
       "      <td>0.5608</td>\n",
       "      <td>0.5749</td>\n",
       "      <td>0.5654</td>\n",
       "      <td>0.5400</td>\n",
       "    </tr>\n",
       "    <tr>\n",
       "      <th>11</th>\n",
       "      <td>11</td>\n",
       "      <td>0.5</td>\n",
       "      <td>-0.0134</td>\n",
       "      <td>0.6080</td>\n",
       "      <td>0.5797</td>\n",
       "      <td>0.5454</td>\n",
       "      <td>0.3895</td>\n",
       "      <td>0.8642</td>\n",
       "      <td>0.7889</td>\n",
       "    </tr>\n",
       "    <tr>\n",
       "      <th>12</th>\n",
       "      <td>12</td>\n",
       "      <td>0.5</td>\n",
       "      <td>-0.0233</td>\n",
       "      <td>0.6080</td>\n",
       "      <td>0.5093</td>\n",
       "      <td>0.6007</td>\n",
       "      <td>0.5729</td>\n",
       "      <td>0.8685</td>\n",
       "      <td>0.7919</td>\n",
       "    </tr>\n",
       "    <tr>\n",
       "      <th>13</th>\n",
       "      <td>13</td>\n",
       "      <td>0.5</td>\n",
       "      <td>-0.0000</td>\n",
       "      <td>0.6080</td>\n",
       "      <td>0.5867</td>\n",
       "      <td>0.5760</td>\n",
       "      <td>0.3918</td>\n",
       "      <td>0.5937</td>\n",
       "      <td>0.5708</td>\n",
       "    </tr>\n",
       "    <tr>\n",
       "      <th>14</th>\n",
       "      <td>14</td>\n",
       "      <td>0.5</td>\n",
       "      <td>-0.0002</td>\n",
       "      <td>0.6080</td>\n",
       "      <td>0.5104</td>\n",
       "      <td>0.5517</td>\n",
       "      <td>0.5860</td>\n",
       "      <td>0.6465</td>\n",
       "      <td>0.6003</td>\n",
       "    </tr>\n",
       "    <tr>\n",
       "      <th>15</th>\n",
       "      <td>15</td>\n",
       "      <td>0.5</td>\n",
       "      <td>-0.0001</td>\n",
       "      <td>0.6080</td>\n",
       "      <td>0.5712</td>\n",
       "      <td>0.5711</td>\n",
       "      <td>0.3915</td>\n",
       "      <td>0.6181</td>\n",
       "      <td>0.5889</td>\n",
       "    </tr>\n",
       "    <tr>\n",
       "      <th>16</th>\n",
       "      <td>16</td>\n",
       "      <td>0.5</td>\n",
       "      <td>-0.0001</td>\n",
       "      <td>0.6080</td>\n",
       "      <td>0.5317</td>\n",
       "      <td>0.5849</td>\n",
       "      <td>0.5749</td>\n",
       "      <td>0.6099</td>\n",
       "      <td>0.5704</td>\n",
       "    </tr>\n",
       "    <tr>\n",
       "      <th>17</th>\n",
       "      <td>17</td>\n",
       "      <td>0.5</td>\n",
       "      <td>-0.0014</td>\n",
       "      <td>0.6080</td>\n",
       "      <td>0.5536</td>\n",
       "      <td>0.5505</td>\n",
       "      <td>0.3891</td>\n",
       "      <td>0.8477</td>\n",
       "      <td>0.7673</td>\n",
       "    </tr>\n",
       "    <tr>\n",
       "      <th>18</th>\n",
       "      <td>18</td>\n",
       "      <td>0.5</td>\n",
       "      <td>-0.0002</td>\n",
       "      <td>0.6331</td>\n",
       "      <td>0.5691</td>\n",
       "      <td>0.6496</td>\n",
       "      <td>0.5539</td>\n",
       "      <td>0.7522</td>\n",
       "      <td>0.6881</td>\n",
       "    </tr>\n",
       "    <tr>\n",
       "      <th>19</th>\n",
       "      <td>19</td>\n",
       "      <td>0.5</td>\n",
       "      <td>-0.0003</td>\n",
       "      <td>0.6213</td>\n",
       "      <td>0.5541</td>\n",
       "      <td>0.6276</td>\n",
       "      <td>0.5568</td>\n",
       "      <td>0.8521</td>\n",
       "      <td>0.7780</td>\n",
       "    </tr>\n",
       "    <tr>\n",
       "      <th>20</th>\n",
       "      <td>20</td>\n",
       "      <td>0.5</td>\n",
       "      <td>-0.0009</td>\n",
       "      <td>0.6520</td>\n",
       "      <td>0.5813</td>\n",
       "      <td>0.6705</td>\n",
       "      <td>0.5373</td>\n",
       "      <td>0.8484</td>\n",
       "      <td>0.7767</td>\n",
       "    </tr>\n",
       "    <tr>\n",
       "      <th>21</th>\n",
       "      <td>21</td>\n",
       "      <td>0.5</td>\n",
       "      <td>-0.0002</td>\n",
       "      <td>0.6275</td>\n",
       "      <td>0.5701</td>\n",
       "      <td>0.6467</td>\n",
       "      <td>0.5595</td>\n",
       "      <td>0.7133</td>\n",
       "      <td>0.6527</td>\n",
       "    </tr>\n",
       "    <tr>\n",
       "      <th>22</th>\n",
       "      <td>22</td>\n",
       "      <td>0.5</td>\n",
       "      <td>-0.0000</td>\n",
       "      <td>0.6755</td>\n",
       "      <td>0.5872</td>\n",
       "      <td>0.6834</td>\n",
       "      <td>0.5300</td>\n",
       "      <td>0.6282</td>\n",
       "      <td>0.5919</td>\n",
       "    </tr>\n",
       "    <tr>\n",
       "      <th>23</th>\n",
       "      <td>23</td>\n",
       "      <td>0.5</td>\n",
       "      <td>-0.0028</td>\n",
       "      <td>0.6541</td>\n",
       "      <td>0.5824</td>\n",
       "      <td>0.6635</td>\n",
       "      <td>0.5397</td>\n",
       "      <td>0.8773</td>\n",
       "      <td>0.7996</td>\n",
       "    </tr>\n",
       "    <tr>\n",
       "      <th>24</th>\n",
       "      <td>24</td>\n",
       "      <td>0.5</td>\n",
       "      <td>-0.0272</td>\n",
       "      <td>0.6709</td>\n",
       "      <td>0.5552</td>\n",
       "      <td>0.6515</td>\n",
       "      <td>0.5613</td>\n",
       "      <td>0.9151</td>\n",
       "      <td>0.8424</td>\n",
       "    </tr>\n",
       "    <tr>\n",
       "      <th>25</th>\n",
       "      <td>25</td>\n",
       "      <td>0.5</td>\n",
       "      <td>-0.0001</td>\n",
       "      <td>0.6080</td>\n",
       "      <td>0.6107</td>\n",
       "      <td>0.6426</td>\n",
       "      <td>0.3917</td>\n",
       "      <td>0.6864</td>\n",
       "      <td>0.6412</td>\n",
       "    </tr>\n",
       "    <tr>\n",
       "      <th>26</th>\n",
       "      <td>26</td>\n",
       "      <td>0.5</td>\n",
       "      <td>-0.0001</td>\n",
       "      <td>0.6179</td>\n",
       "      <td>0.5653</td>\n",
       "      <td>0.6368</td>\n",
       "      <td>0.5571</td>\n",
       "      <td>0.8078</td>\n",
       "      <td>0.7365</td>\n",
       "    </tr>\n",
       "    <tr>\n",
       "      <th>27</th>\n",
       "      <td>27</td>\n",
       "      <td>0.5</td>\n",
       "      <td>-0.0001</td>\n",
       "      <td>0.6568</td>\n",
       "      <td>0.5776</td>\n",
       "      <td>0.6748</td>\n",
       "      <td>0.5413</td>\n",
       "      <td>0.7498</td>\n",
       "      <td>0.6852</td>\n",
       "    </tr>\n",
       "    <tr>\n",
       "      <th>28</th>\n",
       "      <td>28</td>\n",
       "      <td>0.5</td>\n",
       "      <td>-0.0001</td>\n",
       "      <td>0.6080</td>\n",
       "      <td>0.6213</td>\n",
       "      <td>0.6452</td>\n",
       "      <td>0.3916</td>\n",
       "      <td>0.7153</td>\n",
       "      <td>0.6540</td>\n",
       "    </tr>\n",
       "    <tr>\n",
       "      <th>29</th>\n",
       "      <td>29</td>\n",
       "      <td>0.5</td>\n",
       "      <td>-0.0017</td>\n",
       "      <td>0.6499</td>\n",
       "      <td>0.5904</td>\n",
       "      <td>0.6753</td>\n",
       "      <td>0.5394</td>\n",
       "      <td>0.8848</td>\n",
       "      <td>0.8116</td>\n",
       "    </tr>\n",
       "    <tr>\n",
       "      <th>30</th>\n",
       "      <td>30</td>\n",
       "      <td>0.5</td>\n",
       "      <td>-0.0001</td>\n",
       "      <td>0.7805</td>\n",
       "      <td>0.7061</td>\n",
       "      <td>0.8573</td>\n",
       "      <td>0.7344</td>\n",
       "      <td>0.7935</td>\n",
       "      <td>0.7275</td>\n",
       "    </tr>\n",
       "    <tr>\n",
       "      <th>31</th>\n",
       "      <td>31</td>\n",
       "      <td>0.5</td>\n",
       "      <td>-0.0002</td>\n",
       "      <td>0.7971</td>\n",
       "      <td>0.7269</td>\n",
       "      <td>0.8777</td>\n",
       "      <td>0.8974</td>\n",
       "      <td>0.8448</td>\n",
       "      <td>0.7721</td>\n",
       "    </tr>\n",
       "    <tr>\n",
       "      <th>32</th>\n",
       "      <td>32</td>\n",
       "      <td>0.5</td>\n",
       "      <td>-0.0004</td>\n",
       "      <td>0.7768</td>\n",
       "      <td>0.7093</td>\n",
       "      <td>0.8576</td>\n",
       "      <td>0.7507</td>\n",
       "      <td>0.8535</td>\n",
       "      <td>0.7765</td>\n",
       "    </tr>\n",
       "    <tr>\n",
       "      <th>33</th>\n",
       "      <td>33</td>\n",
       "      <td>0.5</td>\n",
       "      <td>-0.0003</td>\n",
       "      <td>0.7731</td>\n",
       "      <td>0.7125</td>\n",
       "      <td>0.8640</td>\n",
       "      <td>0.8671</td>\n",
       "      <td>0.8017</td>\n",
       "      <td>0.7229</td>\n",
       "    </tr>\n",
       "    <tr>\n",
       "      <th>34</th>\n",
       "      <td>34</td>\n",
       "      <td>0.5</td>\n",
       "      <td>-0.0001</td>\n",
       "      <td>0.7416</td>\n",
       "      <td>0.6821</td>\n",
       "      <td>0.8187</td>\n",
       "      <td>0.7121</td>\n",
       "      <td>0.7738</td>\n",
       "      <td>0.7027</td>\n",
       "    </tr>\n",
       "    <tr>\n",
       "      <th>35</th>\n",
       "      <td>35</td>\n",
       "      <td>0.5</td>\n",
       "      <td>-0.0175</td>\n",
       "      <td>0.7243</td>\n",
       "      <td>0.6432</td>\n",
       "      <td>0.7808</td>\n",
       "      <td>0.5755</td>\n",
       "      <td>0.9046</td>\n",
       "      <td>0.8337</td>\n",
       "    </tr>\n",
       "    <tr>\n",
       "      <th>36</th>\n",
       "      <td>36</td>\n",
       "      <td>0.5</td>\n",
       "      <td>-0.0715</td>\n",
       "      <td>0.6979</td>\n",
       "      <td>0.5968</td>\n",
       "      <td>0.7215</td>\n",
       "      <td>0.5184</td>\n",
       "      <td>0.9247</td>\n",
       "      <td>0.8524</td>\n",
       "    </tr>\n",
       "    <tr>\n",
       "      <th>37</th>\n",
       "      <td>37</td>\n",
       "      <td>0.5</td>\n",
       "      <td>-0.0001</td>\n",
       "      <td>0.7024</td>\n",
       "      <td>0.6107</td>\n",
       "      <td>0.7290</td>\n",
       "      <td>0.5233</td>\n",
       "      <td>0.7465</td>\n",
       "      <td>0.6808</td>\n",
       "    </tr>\n",
       "    <tr>\n",
       "      <th>38</th>\n",
       "      <td>38</td>\n",
       "      <td>0.5</td>\n",
       "      <td>-0.0002</td>\n",
       "      <td>0.6515</td>\n",
       "      <td>0.5765</td>\n",
       "      <td>0.6684</td>\n",
       "      <td>0.5452</td>\n",
       "      <td>0.7951</td>\n",
       "      <td>0.7177</td>\n",
       "    </tr>\n",
       "    <tr>\n",
       "      <th>39</th>\n",
       "      <td>39</td>\n",
       "      <td>0.5</td>\n",
       "      <td>-0.0000</td>\n",
       "      <td>0.7109</td>\n",
       "      <td>0.6315</td>\n",
       "      <td>0.7533</td>\n",
       "      <td>0.5357</td>\n",
       "      <td>0.7608</td>\n",
       "      <td>0.6943</td>\n",
       "    </tr>\n",
       "    <tr>\n",
       "      <th>40</th>\n",
       "      <td>40</td>\n",
       "      <td>0.5</td>\n",
       "      <td>-0.0000</td>\n",
       "      <td>0.6997</td>\n",
       "      <td>0.6251</td>\n",
       "      <td>0.7419</td>\n",
       "      <td>0.5236</td>\n",
       "      <td>0.7380</td>\n",
       "      <td>0.6784</td>\n",
       "    </tr>\n",
       "    <tr>\n",
       "      <th>41</th>\n",
       "      <td>41</td>\n",
       "      <td>0.5</td>\n",
       "      <td>-0.0008</td>\n",
       "      <td>0.6795</td>\n",
       "      <td>0.5989</td>\n",
       "      <td>0.7077</td>\n",
       "      <td>0.5284</td>\n",
       "      <td>0.8220</td>\n",
       "      <td>0.7432</td>\n",
       "    </tr>\n",
       "    <tr>\n",
       "      <th>42</th>\n",
       "      <td>42</td>\n",
       "      <td>0.5</td>\n",
       "      <td>-0.0001</td>\n",
       "      <td>0.7320</td>\n",
       "      <td>0.6715</td>\n",
       "      <td>0.8056</td>\n",
       "      <td>0.6102</td>\n",
       "      <td>0.7695</td>\n",
       "      <td>0.7051</td>\n",
       "    </tr>\n",
       "    <tr>\n",
       "      <th>43</th>\n",
       "      <td>43</td>\n",
       "      <td>0.5</td>\n",
       "      <td>-0.0001</td>\n",
       "      <td>0.7043</td>\n",
       "      <td>0.6304</td>\n",
       "      <td>0.7507</td>\n",
       "      <td>0.5415</td>\n",
       "      <td>0.7541</td>\n",
       "      <td>0.6896</td>\n",
       "    </tr>\n",
       "    <tr>\n",
       "      <th>44</th>\n",
       "      <td>44</td>\n",
       "      <td>0.5</td>\n",
       "      <td>-0.0001</td>\n",
       "      <td>0.7301</td>\n",
       "      <td>0.6571</td>\n",
       "      <td>0.7961</td>\n",
       "      <td>0.6004</td>\n",
       "      <td>0.7668</td>\n",
       "      <td>0.7093</td>\n",
       "    </tr>\n",
       "    <tr>\n",
       "      <th>45</th>\n",
       "      <td>45</td>\n",
       "      <td>0.5</td>\n",
       "      <td>-0.0014</td>\n",
       "      <td>0.6856</td>\n",
       "      <td>0.6005</td>\n",
       "      <td>0.7078</td>\n",
       "      <td>0.5261</td>\n",
       "      <td>0.8134</td>\n",
       "      <td>0.7413</td>\n",
       "    </tr>\n",
       "    <tr>\n",
       "      <th>46</th>\n",
       "      <td>46</td>\n",
       "      <td>0.5</td>\n",
       "      <td>-0.0001</td>\n",
       "      <td>0.6963</td>\n",
       "      <td>0.6069</td>\n",
       "      <td>0.7186</td>\n",
       "      <td>0.5227</td>\n",
       "      <td>0.7471</td>\n",
       "      <td>0.6785</td>\n",
       "    </tr>\n",
       "    <tr>\n",
       "      <th>47</th>\n",
       "      <td>47</td>\n",
       "      <td>0.5</td>\n",
       "      <td>-2.6135</td>\n",
       "      <td>0.6955</td>\n",
       "      <td>0.5707</td>\n",
       "      <td>0.6971</td>\n",
       "      <td>0.5220</td>\n",
       "      <td>0.9175</td>\n",
       "      <td>0.8424</td>\n",
       "    </tr>\n",
       "  </tbody>\n",
       "</table>\n",
       "</div>"
      ],
      "text/plain": [
       "    layer  pseudo_auroc  train_loss     acc  cal_acc   auroc     ece  \\\n",
       "0       0           0.5     -2.0085  0.6080   0.5776  0.5479  0.3901   \n",
       "1       1           0.5     -0.0035  0.6080   0.5621  0.5409  0.3906   \n",
       "2       2           0.5     -0.0001  0.6080   0.5408  0.5774  0.5862   \n",
       "3       3           0.5     -0.0004  0.6080   0.5216  0.5595  0.5857   \n",
       "4       4           0.5     -0.0001  0.6080   0.5211  0.5631  0.5749   \n",
       "5       5           0.5     -0.0009  0.6080   0.5088  0.5506  0.5858   \n",
       "6       6           0.5     -0.0005  0.6080   0.5243  0.5737  0.5746   \n",
       "7       7           0.5     -0.0002  0.6080   0.5685  0.5381  0.3912   \n",
       "8       8           0.5     -0.0016  0.6080   0.5205  0.5699  0.5740   \n",
       "9       9           0.5     -0.0001  0.6080   0.5243  0.5655  0.5859   \n",
       "10     10           0.5     -0.0001  0.6080   0.5077  0.5608  0.5749   \n",
       "11     11           0.5     -0.0134  0.6080   0.5797  0.5454  0.3895   \n",
       "12     12           0.5     -0.0233  0.6080   0.5093  0.6007  0.5729   \n",
       "13     13           0.5     -0.0000  0.6080   0.5867  0.5760  0.3918   \n",
       "14     14           0.5     -0.0002  0.6080   0.5104  0.5517  0.5860   \n",
       "15     15           0.5     -0.0001  0.6080   0.5712  0.5711  0.3915   \n",
       "16     16           0.5     -0.0001  0.6080   0.5317  0.5849  0.5749   \n",
       "17     17           0.5     -0.0014  0.6080   0.5536  0.5505  0.3891   \n",
       "18     18           0.5     -0.0002  0.6331   0.5691  0.6496  0.5539   \n",
       "19     19           0.5     -0.0003  0.6213   0.5541  0.6276  0.5568   \n",
       "20     20           0.5     -0.0009  0.6520   0.5813  0.6705  0.5373   \n",
       "21     21           0.5     -0.0002  0.6275   0.5701  0.6467  0.5595   \n",
       "22     22           0.5     -0.0000  0.6755   0.5872  0.6834  0.5300   \n",
       "23     23           0.5     -0.0028  0.6541   0.5824  0.6635  0.5397   \n",
       "24     24           0.5     -0.0272  0.6709   0.5552  0.6515  0.5613   \n",
       "25     25           0.5     -0.0001  0.6080   0.6107  0.6426  0.3917   \n",
       "26     26           0.5     -0.0001  0.6179   0.5653  0.6368  0.5571   \n",
       "27     27           0.5     -0.0001  0.6568   0.5776  0.6748  0.5413   \n",
       "28     28           0.5     -0.0001  0.6080   0.6213  0.6452  0.3916   \n",
       "29     29           0.5     -0.0017  0.6499   0.5904  0.6753  0.5394   \n",
       "30     30           0.5     -0.0001  0.7805   0.7061  0.8573  0.7344   \n",
       "31     31           0.5     -0.0002  0.7971   0.7269  0.8777  0.8974   \n",
       "32     32           0.5     -0.0004  0.7768   0.7093  0.8576  0.7507   \n",
       "33     33           0.5     -0.0003  0.7731   0.7125  0.8640  0.8671   \n",
       "34     34           0.5     -0.0001  0.7416   0.6821  0.8187  0.7121   \n",
       "35     35           0.5     -0.0175  0.7243   0.6432  0.7808  0.5755   \n",
       "36     36           0.5     -0.0715  0.6979   0.5968  0.7215  0.5184   \n",
       "37     37           0.5     -0.0001  0.7024   0.6107  0.7290  0.5233   \n",
       "38     38           0.5     -0.0002  0.6515   0.5765  0.6684  0.5452   \n",
       "39     39           0.5     -0.0000  0.7109   0.6315  0.7533  0.5357   \n",
       "40     40           0.5     -0.0000  0.6997   0.6251  0.7419  0.5236   \n",
       "41     41           0.5     -0.0008  0.6795   0.5989  0.7077  0.5284   \n",
       "42     42           0.5     -0.0001  0.7320   0.6715  0.8056  0.6102   \n",
       "43     43           0.5     -0.0001  0.7043   0.6304  0.7507  0.5415   \n",
       "44     44           0.5     -0.0001  0.7301   0.6571  0.7961  0.6004   \n",
       "45     45           0.5     -0.0014  0.6856   0.6005  0.7078  0.5261   \n",
       "46     46           0.5     -0.0001  0.6963   0.6069  0.7186  0.5227   \n",
       "47     47           0.5     -2.6135  0.6955   0.5707  0.6971  0.5220   \n",
       "\n",
       "    lr_auroc  lr_acc  \n",
       "0     0.8758  0.7976  \n",
       "1     0.7443  0.6720  \n",
       "2     0.5747  0.5517  \n",
       "3     0.6627  0.6175  \n",
       "4     0.6351  0.6083  \n",
       "5     0.7618  0.6933  \n",
       "6     0.7600  0.6976  \n",
       "7     0.7353  0.6833  \n",
       "8     0.7739  0.7068  \n",
       "9     0.6306  0.6008  \n",
       "10    0.5654  0.5400  \n",
       "11    0.8642  0.7889  \n",
       "12    0.8685  0.7919  \n",
       "13    0.5937  0.5708  \n",
       "14    0.6465  0.6003  \n",
       "15    0.6181  0.5889  \n",
       "16    0.6099  0.5704  \n",
       "17    0.8477  0.7673  \n",
       "18    0.7522  0.6881  \n",
       "19    0.8521  0.7780  \n",
       "20    0.8484  0.7767  \n",
       "21    0.7133  0.6527  \n",
       "22    0.6282  0.5919  \n",
       "23    0.8773  0.7996  \n",
       "24    0.9151  0.8424  \n",
       "25    0.6864  0.6412  \n",
       "26    0.8078  0.7365  \n",
       "27    0.7498  0.6852  \n",
       "28    0.7153  0.6540  \n",
       "29    0.8848  0.8116  \n",
       "30    0.7935  0.7275  \n",
       "31    0.8448  0.7721  \n",
       "32    0.8535  0.7765  \n",
       "33    0.8017  0.7229  \n",
       "34    0.7738  0.7027  \n",
       "35    0.9046  0.8337  \n",
       "36    0.9247  0.8524  \n",
       "37    0.7465  0.6808  \n",
       "38    0.7951  0.7177  \n",
       "39    0.7608  0.6943  \n",
       "40    0.7380  0.6784  \n",
       "41    0.8220  0.7432  \n",
       "42    0.7695  0.7051  \n",
       "43    0.7541  0.6896  \n",
       "44    0.7668  0.7093  \n",
       "45    0.8134  0.7413  \n",
       "46    0.7471  0.6785  \n",
       "47    0.9175  0.8424  "
      ]
     },
     "execution_count": 21,
     "metadata": {},
     "output_type": "execute_result"
    }
   ],
   "source": [
    "get_eval(run)"
   ]
  },
  {
   "cell_type": "code",
   "execution_count": 22,
   "metadata": {},
   "outputs": [],
   "source": [
    "def reporter_outputs(reporters, sentence):\n",
    "    inputs = tokenizer(sentence, return_tensors=\"pt\").to(device)\n",
    "    out_w_states = model(inputs[\"input_ids\"], output_hidden_states=True)\n",
    "    # the +1 in i+1 is because the first hidden state is the input embedding\n",
    "    return t.stack(\n",
    "        [\n",
    "            reporter(out_w_states[1][i+1])[0]\n",
    "            for i, reporter in enumerate(reporters)\n",
    "        ],\n",
    "        dim=0\n",
    "    )\n",
    "\n",
    "def reporter_output(reporter, sentence):\n",
    "    return reporter_outputs([reporter], sentence)[0]\n",
    "\n",
    "def plot_2d_tensor_as_heatmap(t2d):\n",
    "    fig, ax = plt.subplots()\n",
    "    heatmap = ax.imshow(t2d.cpu().detach().numpy(), cmap=\"hot\", interpolation=\"nearest\")\n",
    "    ax.set_xlabel(\"Token\")\n",
    "    ax.set_ylabel(\"Reporter (=layer)\")\n",
    "    plt.colorbar(heatmap)\n",
    "\n",
    "def best_reporter(run_name):\n",
    "    layer_eval = get_eval(run_name)\n",
    "    # find the row in the pandas dataframe layer_eval with the highest accuracy:\n",
    "    best_layer = layer_eval[\"layer\"][layer_eval[\"acc\"].idxmax()]\n",
    "    reporter = get_reporters(run_name)[best_layer]\n",
    "    return reporter\n",
    "\n",
    "def best_layer_output(run_name, sentence):\n",
    "    reporter = best_reporter(run_name)\n",
    "    return reporter_outputs([reporter], sentence)[0]"
   ]
  },
  {
   "cell_type": "code",
   "execution_count": 23,
   "metadata": {},
   "outputs": [
    {
     "data": {
      "text/plain": [
       "tensor([  56.1649,  324.6794,   33.7451,   32.6317,   95.2264, -145.0999,\n",
       "         -32.0354,  233.5305,  -53.6458], device='cuda:7',\n",
       "       grad_fn=<SelectBackward0>)"
      ]
     },
     "execution_count": 23,
     "metadata": {},
     "output_type": "execute_result"
    }
   ],
   "source": [
    "best_layer_output(run, \"Is 1+1=2? Yes\")"
   ]
  },
  {
   "cell_type": "code",
   "execution_count": 24,
   "metadata": {},
   "outputs": [
    {
     "ename": "",
     "evalue": "",
     "output_type": "error",
     "traceback": [
      "\u001b[1;31mCanceled future for execute_request message before replies were done"
     ]
    },
    {
     "ename": "",
     "evalue": "",
     "output_type": "error",
     "traceback": [
      "\u001b[1;31mThe Kernel crashed while executing code in the the current cell or a previous cell. Please review the code in the cell(s) to identify a possible cause of the failure. Click <a href='https://aka.ms/vscodeJupyterKernelCrash'>here</a> for more info. View Jupyter <a href='command:jupyter.viewOutput'>log</a> for further details."
     ]
    }
   ],
   "source": [
    "best_layer_output(run, \"Is 1+1=2? No\")"
   ]
  },
  {
   "cell_type": "code",
   "execution_count": null,
   "metadata": {},
   "outputs": [
    {
     "data": {
      "image/png": "[encoded data removed]",
      "text/plain": [
       "<Figure size 640x480 with 2 Axes>"
      ]
     },
     "metadata": {},
     "output_type": "display_data"
    },
    {
     "ename": "",
     "evalue": "",
     "output_type": "error",
     "traceback": [
      "\u001b[1;31mThe Kernel crashed while executing code in the the current cell or a previous cell. Please review the code in the cell(s) to identify a possible cause of the failure. Click <a href='https://aka.ms/vscodeJupyterKernelCrash'>here</a> for more info. View Jupyter <a href='command:jupyter.viewOutput'>log</a> for further details."
     ]
    }
   ],
   "source": [
    "# plot_2d_tensor_as_heatmap(reporter_outputs(reporters, \"Is 1 + 1 = 2? No\"))"
   ]
  },
  {
   "attachments": {},
   "cell_type": "markdown",
   "metadata": {},
   "source": [
    "## Sanity test for reporter"
   ]
  },
  {
   "cell_type": "code",
   "execution_count": 61,
   "metadata": {},
   "outputs": [],
   "source": [
    "from elk.evaluation.evaluate import (\n",
    "    evaluate_reporter,\n",
    "    EvaluateConfig,\n",
    "    evaluate_reporters\n",
    ")"
   ]
  },
  {
   "cell_type": "code",
   "execution_count": 34,
   "metadata": {},
   "outputs": [],
   "source": [
    "eval_config = EvaluateConfig(\n",
    "    ExtractionConfig(prompt_config, model_name, (45,)),\n",
    "    run\n",
    ")"
   ]
  },
  {
   "cell_type": "code",
   "execution_count": 63,
   "metadata": {},
   "outputs": [
    {
     "data": {
      "text/plain": [
       "ExtractionConfig(prompts=PromptConfig(dataset='ag_news', balance=False, data_dir=None, label_column=None, num_classes=None, max_examples=[750, 250], num_shots=0, num_variants=-1, seed=42), model='microsoft/deberta-v2-xxlarge-mnli', layers=(45,), token_loc='last')"
      ]
     },
     "execution_count": 63,
     "metadata": {},
     "output_type": "execute_result"
    }
   ],
   "source": [
    "eval_config.target"
   ]
  },
  {
   "cell_type": "code",
   "execution_count": 64,
   "metadata": {},
   "outputs": [
    {
     "name": "stdout",
     "output_type": "stream",
     "text": [
      "Using 'train' for training and 'test' for validation\n",
      "Using all 8 GPUs.\n",
      "Downloading and preparing dataset generator/default to /fsx/home-rudolf/hf_data_cache/generator/default-4063b2292dafe44c/0.0.0...\n"
     ]
    },
    {
     "name": "stderr",
     "output_type": "stream",
     "text": []
    },
    {
     "name": "stdout",
     "output_type": "stream",
     "text": [
      "huggingface/tokenizers: The current process just got forked, after parallelism has already been used. Disabling parallelism to avoid deadlocks...\n",
      "To disable this warning, you can either:\n",
      "\t- Avoid using `tokenizers` before the fork if possible\n",
      "\t- Explicitly set the environment variable TOKENIZERS_PARALLELISM=(true | false)\n",
      "huggingface/tokenizers: The current process just got forked, after parallelism has already been used. Disabling parallelism to avoid deadlocks...\n",
      "To disable this warning, you can either:\n",
      "\t- Avoid using `tokenizers` before the fork if possible\n",
      "\t- Explicitly set the environment variable TOKENIZERS_PARALLELISM=(true | false)\n",
      "huggingface/tokenizers: The current process just got forked, after parallelism has already been used. Disabling parallelism to avoid deadlocks...\n",
      "To disable this warning, you can either:\n",
      "\t- Avoid using `tokenizers` before the fork if possible\n",
      "\t- Explicitly set the environment variable TOKENIZERS_PARALLELISM=(true | false)\n",
      "huggingface/tokenizers: The current process just got forked, after parallelism has already been used. Disabling parallelism to avoid deadlocks...\n",
      "To disable this warning, you can either:\n",
      "\t- Avoid using `tokenizers` before the fork if possible\n",
      "\t- Explicitly set the environment variable TOKENIZERS_PARALLELISM=(true | false)\n",
      "huggingface/tokenizers: The current process just got forked, after parallelism has already been used. Disabling parallelism to avoid deadlocks...\n",
      "To disable this warning, you can either:\n",
      "\t- Avoid using `tokenizers` before the fork if possible\n",
      "\t- Explicitly set the environment variable TOKENIZERS_PARALLELISM=(true | false)\n",
      "huggingface/tokenizers: The current process just got forked, after parallelism has already been used. Disabling parallelism to avoid deadlocks...\n",
      "To disable this warning, you can either:\n",
      "\t- Avoid using `tokenizers` before the fork if possible\n",
      "\t- Explicitly set the environment variable TOKENIZERS_PARALLELISM=(true | false)\n",
      "huggingface/tokenizers: The current process just got forked, after parallelism has already been used. Disabling parallelism to avoid deadlocks...\n",
      "To disable this warning, you can either:\n",
      "\t- Avoid using `tokenizers` before the fork if possible\n",
      "\t- Explicitly set the environment variable TOKENIZERS_PARALLELISM=(true | false)\n",
      "huggingface/tokenizers: The current process just got forked, after parallelism has already been used. Disabling parallelism to avoid deadlocks...\n",
      "To disable this warning, you can either:\n",
      "\t- Avoid using `tokenizers` before the fork if possible\n",
      "\t- Explicitly set the environment variable TOKENIZERS_PARALLELISM=(true | false)\n",
      "huggingface/tokenizers: The current process just got forked, after parallelism has already been used. Disabling parallelism to avoid deadlocks...\n",
      "To disable this warning, you can either:\n",
      "\t- Avoid using `tokenizers` before the fork if possible\n",
      "\t- Explicitly set the environment variable TOKENIZERS_PARALLELISM=(true | false)\n"
     ]
    },
    {
     "name": "stderr",
     "output_type": "stream",
     "text": [
      "\n",
      "\u001b[A\n",
      "100%|██████████| 2/2 [00:00<00:00, 343.80it/s]\n",
      "Found cached dataset ag_news (/fsx/home-rudolf/hf_data_cache/ag_news/default/0.0.0/bc2bcb40336ace1a0374767fc29bb0296cdaf8a6da7298436239c54d79180548)\n",
      "100%|██████████| 2/2 [00:00<00:00, 404.37it/s]\n",
      "\n",
      "100%|██████████| 2/2 [00:00<00:00, 343.13it/s]\n",
      "\n",
      "100%|██████████| 2/2 [00:00<00:00, 414.89it/s]\n",
      "\n",
      "100%|██████████| 2/2 [00:00<00:00, 431.18it/s]\n",
      "Loading cached shuffled indices for dataset at /fsx/home-rudolf/hf_data_cache/ag_news/default/0.0.0/bc2bcb40336ace1a0374767fc29bb0296cdaf8a6da7298436239c54d79180548/cache-dd0ff9596fea92b0.arrow\n"
     ]
    },
    {
     "name": "stdout",
     "output_type": "stream",
     "text": [
      "\t- Explicitly set the environment variable TOKENIZERS_PARALLELISM=(true | false)\n"
     ]
    },
    {
     "name": "stderr",
     "output_type": "stream",
     "text": [
      "\n",
      "100%|██████████| 2/2 [00:00<00:00, 416.56it/s]\n"
     ]
    },
    {
     "name": "stdout",
     "output_type": "stream",
     "text": [
      "\t- Avoid using `tokenizers` before the fork if possible\n",
      "\t- Explicitly set the environment variable TOKENIZERS_PARALLELISM=(true | false)\n",
      "huggingface/tokenizers: The current process just got forked, after parallelism has already been used. Disabling parallelism to avoid deadlocks...\n",
      "To disable this warning, you can either:\n",
      "\t- Avoid using `tokenizers` before the fork if possible\n",
      "\t- Explicitly set the environment variable TOKENIZERS_PARALLELISM=(true | false)\n",
      "\t- Explicitly set the environment variable TOKENIZERS_PARALLELISM=(true | false)\n"
     ]
    },
    {
     "name": "stderr",
     "output_type": "stream",
     "text": [
      "\n",
      "\u001b[A\n",
      "100%|██████████| 2/2 [00:00<00:00, 372.84it/s]\n",
      "100%|██████████| 2/2 [00:00<00:00, 418.16it/s]\n"
     ]
    },
    {
     "name": "stdout",
     "output_type": "stream",
     "text": [
      "Using all prompts per example: ['burns_1', 'burns_2', 'burns_3', 'burns_4', 'burns_5', 'burns_6', 'burns_7', 'burns_8', 'classify', 'classify_question_first', 'classify_with_choices', 'classify_with_choices_question_first', 'recommend', 'which_section', 'which_section_choices']\n"
     ]
    }
   ],
   "source": [
    "ds = extract(eval_config.target, max_gpus=-1)"
   ]
  },
  {
   "cell_type": "code",
   "execution_count": 35,
   "metadata": {},
   "outputs": [
    {
     "ename": "AttributeError",
     "evalue": "'PromptDataset' object has no attribute 'formatted_as'",
     "output_type": "error",
     "traceback": [
      "\u001b[0;31m---------------------------------------------------------------------------\u001b[0m",
      "\u001b[0;31mAttributeError\u001b[0m                            Traceback (most recent call last)",
      "Cell \u001b[0;32mIn[35], line 1\u001b[0m\n\u001b[0;32m----> 1\u001b[0m evaluate_reporter(\n\u001b[1;32m      2\u001b[0m     eval_config,\n\u001b[1;32m      3\u001b[0m     dataset,\n\u001b[1;32m      4\u001b[0m     \u001b[39m45\u001b[39;49m,\n\u001b[1;32m      5\u001b[0m     devices\u001b[39m=\u001b[39;49m[\u001b[39m0\u001b[39;49m]\n\u001b[1;32m      6\u001b[0m )\n",
      "File \u001b[0;32m/fsx/home-rudolf/elk/elk-experiments/elk/evaluation/evaluate.py:53\u001b[0m, in \u001b[0;36mevaluate_reporter\u001b[0;34m(cfg, dataset, layer, devices, world_size)\u001b[0m\n\u001b[1;32m     47\u001b[0m device \u001b[39m=\u001b[39m devices[rank]\n\u001b[1;32m     49\u001b[0m \u001b[39m# Note: currently we're just upcasting to float32 so we don't have to deal with\u001b[39;00m\n\u001b[1;32m     50\u001b[0m \u001b[39m# grad scaling (which isn't supported for LBFGS), while the hidden states are\u001b[39;00m\n\u001b[1;32m     51\u001b[0m \u001b[39m# saved in float16 to save disk space. In the future we could try to use mixed\u001b[39;00m\n\u001b[1;32m     52\u001b[0m \u001b[39m# precision training in at least some cases.\u001b[39;00m\n\u001b[0;32m---> 53\u001b[0m \u001b[39mwith\u001b[39;00m dataset\u001b[39m.\u001b[39;49mformatted_as(\u001b[39m\"\u001b[39m\u001b[39mtorch\u001b[39m\u001b[39m\"\u001b[39m, device\u001b[39m=\u001b[39mdevice, dtype\u001b[39m=\u001b[39mtorch\u001b[39m.\u001b[39mint16):\n\u001b[1;32m     54\u001b[0m     train_split, val_split \u001b[39m=\u001b[39m select_train_val_splits(dataset)\n\u001b[1;32m     55\u001b[0m     train, val \u001b[39m=\u001b[39m dataset[train_split], dataset[val_split]\n",
      "\u001b[0;31mAttributeError\u001b[0m: 'PromptDataset' object has no attribute 'formatted_as'"
     ]
    }
   ],
   "source": [
    "evaluate_reporters(\n",
    "    eval_config,\n",
    "    dataset,\n",
    "    45,\n",
    "    devices=[0]\n",
    ")"
   ]
  },
  {
   "cell_type": "code",
   "execution_count": 57,
   "metadata": {},
   "outputs": [],
   "source": [
    "def contrast_pair_activations(reporter, dataset, num_examples=10):    \n",
    "    true_activations = []\n",
    "    false_activations = []\n",
    "    for i in range(num_examples):\n",
    "        (true, false) = dsget(dataset, i)\n",
    "        true_activations.append(reporter_output(reporter, true).cpu().detach().numpy())\n",
    "        false_activations.append(reporter_output(reporter, false).cpu().detach().numpy())\n",
    "    return (true_activations, false_activations)\n",
    "\n",
    "def ccs_pair_stats(reporter, dataset, num_examples=10):\n",
    "    true_acts, false_acts = contrast_pair_activations(reporter, dataset, num_examples)\n",
    "    true_avgs = sum([np.mean(x) for x in true_acts]) / len(true_acts)\n",
    "    false_avgs = sum([np.mean(x) for x in false_acts]) / len(false_acts)\n",
    "    true_i_avgs = []\n",
    "    false_i_avgs = []\n",
    "    avg_diffs = []\n",
    "    for i in range(5):\n",
    "        true_tokens = np.array([x[-i] for x in true_acts])\n",
    "        false_tokens = np.array([x[-i] for x in false_acts])\n",
    "        true_i_avgs.append(true_tokens.sum() / true_tokens.shape[0])\n",
    "        false_i_avgs.append(false_tokens.sum() / false_tokens.shape[0])\n",
    "        avg_diffs.append((true_tokens - false_tokens).mean())\n",
    "    return {\n",
    "        \"all\": {\n",
    "            \"true_avg\": true_avgs,\n",
    "            \"false_avg\": false_avgs\n",
    "        },\n",
    "        \"last_tokens\" : {\n",
    "            i : {\n",
    "                \"true_avg\": true_i_avgs[i],\n",
    "                \"false_avg\": false_i_avgs[i],\n",
    "                \"avg_diff\": avg_diffs[i]\n",
    "            } for i in range(len(true_i_avgs))\n",
    "        }\n",
    "    }\n",
    "\n",
    "def plot_ccs_pairs(reporter, dataset, num_examples=10):\n",
    "    true_activations, false_activations = contrast_pair_activations(reporter, dataset, num_examples)\n",
    "    fig, ax = plt.subplots()\n",
    "    for x in true_activations:\n",
    "        ax.scatter(np.linspace(0, 1, x.shape[0]), x, color=\"green\", alpha=0.2)\n",
    "    for x in false_activations:\n",
    "        ax.scatter(np.linspace(0, 1, x.shape[0]), x, color=\"red\", alpha=0.2)\n",
    "    fig.show()"
   ]
  },
  {
   "cell_type": "code",
   "execution_count": 58,
   "metadata": {},
   "outputs": [
    {
     "data": {
      "text/plain": [
       "{'all': {'true_avg': -0.5490504348278046, 'false_avg': -0.5463682505488395},\n",
       " 'last_tokens': {0: {'true_avg': -0.5256773376464844,\n",
       "   'false_avg': -0.5256265258789062,\n",
       "   'avg_diff': -5.0874056e-05},\n",
       "  1: {'true_avg': -0.34209156036376953,\n",
       "   'false_avg': -0.3422386169433594,\n",
       "   'avg_diff': 0.0001470481},\n",
       "  2: {'true_avg': -0.40240631103515623,\n",
       "   'false_avg': -0.39462043762207033,\n",
       "   'avg_diff': -0.0077857687},\n",
       "  3: {'true_avg': -0.3819146728515625,\n",
       "   'false_avg': -0.37313873291015626,\n",
       "   'avg_diff': -0.008775895},\n",
       "  4: {'true_avg': -0.5089014434814453,\n",
       "   'false_avg': -0.4691994857788086,\n",
       "   'avg_diff': -0.03970192}}}"
      ]
     },
     "execution_count": 58,
     "metadata": {},
     "output_type": "execute_result"
    }
   ],
   "source": [
    "ccs_pair_stats(best_reporter(run), dataset, num_examples=100)"
   ]
  },
  {
   "cell_type": "code",
   "execution_count": 38,
   "metadata": {},
   "outputs": [
    {
     "data": {
      "image/png": "[encoded data removed]",
      "text/plain": [
       "<Figure size 640x480 with 1 Axes>"
      ]
     },
     "metadata": {},
     "output_type": "display_data"
    }
   ],
   "source": [
    "plot_ccs_pairs(best_reporter(run), dataset)"
   ]
  },
  {
   "cell_type": "code",
   "execution_count": null,
   "metadata": {},
   "outputs": [],
   "source": []
  }
 ],
 "metadata": {
  "kernelspec": {
   "display_name": "elk4",
   "language": "python",
   "name": "python3"
  },
  "language_info": {
   "codemirror_mode": {
    "name": "ipython",
    "version": 3
   },
   "file_extension": ".py",
   "mimetype": "text/x-python",
   "name": "python",
   "nbconvert_exporter": "python",
   "pygments_lexer": "ipython3",
   "version": "3.10.9"
  },
  "orig_nbformat": 4
 },
 "nbformat": 4,
 "nbformat_minor": 2
}
